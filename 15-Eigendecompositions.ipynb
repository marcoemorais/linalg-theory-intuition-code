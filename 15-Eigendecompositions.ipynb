{
 "cells": [
  {
   "cell_type": "markdown",
   "id": "39d8348e",
   "metadata": {},
   "source": [
    "# 15 - Eigendecompositions\n",
    "- 15.1 Eigenwhatnow?\n",
    "- 15.2 Finding eigenvalues\n",
    "- 15.3 Finding eigenvectors\n",
    "- 15.4 Diagonalization\n",
    "- 15.5 Conditions for diagonalization\n",
    "- 15.6 Distinct, repeated eigenvalues\n",
    "- 15.7 Complex solutions\n",
    "- 15.8 Symmetric matrices\n",
    "- 15.9 Eigenvalues of singular matrices\n",
    "- 15.10 Eigenlayers of a matrix\n",
    "- 15.11 Matrix powers and inverse\n",
    "- 15.12 Generalized eigendecomposition\n",
    "- 15.13 Exercises\n",
    "- 15.14 Answers\n",
    "- 15.15 Code challenges\n",
    "- 15.16 Code solutions"
   ]
  },
  {
   "cell_type": "code",
   "execution_count": 1,
   "id": "1ee2376a",
   "metadata": {},
   "outputs": [],
   "source": [
    "import numpy as np\n",
    "import matplotlib.pyplot as plt\n",
    "\n",
    "%matplotlib inline"
   ]
  },
  {
   "cell_type": "markdown",
   "id": "f2fe573b",
   "metadata": {},
   "source": [
    "## 15.1 What are eigenvalues and eigenvectors?\n",
    "Eigendecomposition extracts eigenvalues (scalars) and eigenvectors from a **square** matrix.\n",
    "\n",
    "The matrix-vector product of a matrix and eigenvector $A v$ is equivalent to the scalar-vector product $\\lambda v$\n",
    "\n",
    "$$\n",
    "A v = \\lambda v\n",
    "$$\n",
    "\n",
    "Notes\n",
    "- The fact that $Av$ scales $v$ is unsual, most other matrix-vector products would rotate and scale the vector $v$.\n",
    "- A $m \\times m$ matrix will have $m$ eigenvalues."
   ]
  },
  {
   "cell_type": "markdown",
   "id": "c15a3f21",
   "metadata": {},
   "source": [
    "## 15.2 Finding eigenvalues\n",
    "The roots of the characteristic polynomial correspond to the eigenvalues of the matrix.\n",
    "\n",
    "$$\n",
    "\\text{det}(A - \\lambda I) = 0\n",
    "$$\n",
    "\n",
    "Example\n",
    "$$\n",
    "\\text{det}\\left(\n",
    "\\begin{bmatrix}\n",
    "2 & 5 \\\\\n",
    "6 & 3 \\\\\n",
    "\\end{bmatrix} - \\lambda I\\right) = 0 \\\\\n",
    "\\text{det}\\left(\n",
    "\\begin{bmatrix}\n",
    "2 - \\lambda & 5 \\\\\n",
    "6 & 3 - \\lambda \\\\\n",
    "\\end{bmatrix} \\right) = 0 \\\\\n",
    "(2 - \\lambda)(3 - \\lambda) - 30 = 0 \\\\\n",
    "\\lambda^2 - 5 \\lambda - 24 = 0 \\\\\n",
    "(\\lambda - 8) (\\lambda + 3) = 0 \\\\\n",
    "\\lambda = +8, -3\n",
    "$$\n",
    "\n",
    "### Why This Works\n",
    "The eigenvector is the vector in the nullspace of a matrix shifted by its eigenvalue.\n",
    "\n",
    "$$\n",
    "A v = \\lambda v \\\\\n",
    "A v - \\lambda I v = 0 \\\\\n",
    "(A - \\lambda I) v = 0 \\\\\n",
    "$$\n",
    "\n",
    "Notes\n",
    "- Shifted matrix $(A - \\lambda I)$ must be singular in order for the nullspace to be non-empty. "
   ]
  },
  {
   "cell_type": "markdown",
   "id": "ea4f17d7",
   "metadata": {},
   "source": [
    "## 15.3 Finding eigenvectors\n",
    "1. Find eigenvalues using the characteristic equation.\n",
    "2. Each eigenvector $v_i$ associated with an eigenvalue $\\lambda_i$ will be the vector in the null space of the matrix shifted by the eigenvalue. \n",
    "\n",
    "$$\n",
    "(A - \\lambda_i I) v_i = 0\n",
    "$$\n",
    "\n",
    "Example\n",
    "\n",
    "Step 1. Find eigenvalues.\n",
    "$$\n",
    "\\text{det}\\left(\n",
    "\\begin{bmatrix}\n",
    "1 & 2 \\\\\n",
    "2 & 1 \\\\\n",
    "\\end{bmatrix} - \\lambda I\\right) = 0 \\\\\n",
    "\\text{det}\\left(\n",
    "\\begin{bmatrix}\n",
    "1 - \\lambda & 2 \\\\\n",
    "2 & 1 - \\lambda \\\\\n",
    "\\end{bmatrix} \\right) = 0 \\\\\n",
    "\\lambda^2 - 2 \\lambda - 3 = 0 \\\\\n",
    "(\\lambda - 3) (\\lambda + 1) = 0 \\\\\n",
    "\\lambda_1 = +3, \\lambda_2 = -1\n",
    "$$\n",
    "\n",
    "Step 2. Find eigevectors.\n",
    "$$\n",
    "(A - \\lambda_1 I) v_1 = 0 \\\\\n",
    "\\begin{bmatrix}\n",
    "1 - 3 & 2 \\\\\n",
    "2 & 1 - 3 \\\\\n",
    "\\end{bmatrix} v_1 = 0 \\\\\n",
    "\\begin{bmatrix}\n",
    "-2 & 2 \\\\\n",
    "2 & -2 \\\\\n",
    "\\end{bmatrix}\n",
    "\\begin{bmatrix}\n",
    "1 \\\\\n",
    "1 \\\\\n",
    "\\end{bmatrix} = 0 \\\\\n",
    "v_1 = \\begin{bmatrix}1 & 1\\end{bmatrix}^T \\\\\n",
    "$$\n",
    "\n",
    "$$\n",
    "(A - \\lambda_2 I) v_2 = 0 \\\\\n",
    "\\begin{bmatrix}\n",
    "1 + 1 & 2 \\\\\n",
    "2 & 1 + 1 \\\\\n",
    "\\end{bmatrix} v_2 = 0 \\\\\n",
    "\\begin{bmatrix}\n",
    "2 & 2 \\\\\n",
    "2 & 2 \\\\\n",
    "\\end{bmatrix}\n",
    "\\begin{bmatrix}\n",
    "1 \\\\\n",
    "-1 \\\\\n",
    "\\end{bmatrix} = 0 \\\\\n",
    "v_2 = \\begin{bmatrix}1 & -1\\end{bmatrix}^T \\\\\n",
    "$$"
   ]
  },
  {
   "cell_type": "markdown",
   "id": "52098b40",
   "metadata": {},
   "source": [
    "## 15.4 Diagonalization\n",
    "Eigendecompositions find a set of basis vectors for a matrix such that the matrix is diagonal to that basis.\n",
    "\n",
    "The set of eigenvectors is arranged in the column matrix $V$ and left multiplied by the eigenvalues in the diagonal matrix $\\Lambda$ (_capital $\\lambda$_).\n",
    "\n",
    "$$\n",
    "A V = V \\Lambda\n",
    "$$\n",
    "\n",
    "### Factorization of $A$ Using Eigendecomposition\n",
    "The matrix $A$ can be factorized into the product of eigenvectors and eigenvalues.\n",
    "\n",
    "$$\n",
    "A = V \\Lambda V^{-1}\n",
    "$$\n",
    "\n",
    "Notes\n",
    "- $V^{-1}$ exists since the eigenvectors form a basis and are therefore linearly independent.\n",
    "- Helpful to think of the eigendecomposition as revealing the structure of the matrix $A$."
   ]
  },
  {
   "cell_type": "code",
   "execution_count": 2,
   "id": "2f4fff29",
   "metadata": {},
   "outputs": [
    {
     "data": {
      "image/png": "[encoded data removed]",
      "text/plain": [
       "<Figure size 1440x432 with 4 Axes>"
      ]
     },
     "metadata": {
      "needs_background": "light"
     },
     "output_type": "display_data"
    }
   ],
   "source": [
    "def rand_matrix_real_eigenvalues(n):\n",
    "    \"\"\"\n",
    "    rand_matrix_real_eigenvalues returns a matrix of random values with real eigenvalues\n",
    "\n",
    "    :param n: int            Size of a single dimension of the returned matrix.\n",
    "    :return: numpy.ndarray   Symmetric matrix A = A^T\n",
    "    \"\"\"\n",
    "    # Eigenvalues of a diagonal matrix are the elements on diagonal.\n",
    "    # Generate n real-valued eigenvalues.\n",
    "    D = np.diag(np.random.random(n))\n",
    "    # Generate a random orthogonal matrix.\n",
    "    Q, _ = np.linalg.qr(np.random.random((n,n)))\n",
    "    # Compute the matrix similarity transform from D to B.\n",
    "    B = Q @ D @ Q.T\n",
    "    return B\n",
    "\n",
    "\n",
    "n = 25\n",
    "A = rand_matrix_real_eigenvalues(n)\n",
    "\n",
    "L, V = np.linalg.eig(A)\n",
    "L = np.diag(L)\n",
    "Vinv = np.linalg.inv(V)\n",
    "\n",
    "# Verify the factorization of A = V Lambda V^-1.\n",
    "np.testing.assert_almost_equal(V @ L @ Vinv, A)\n",
    "\n",
    "# Plot the original matrix and components of factorization.\n",
    "fig1, axes = plt.subplots(1, 4, figsize=(20,6))\n",
    "axes[0].imshow(A, cmap='gray')\n",
    "axes[0].set_title('$A$ is Random Matrix')\n",
    "axes[1].imshow(V, cmap='gray')\n",
    "axes[1].set_title('$V$ is the Eigenvector Matrix')\n",
    "axes[2].imshow(L, cmap='gray')\n",
    "axes[2].set_title('$\\\\Lambda$ is Eigenvalue Matrix')\n",
    "axes[3].imshow(Vinv, cmap='gray')\n",
    "axes[3].set_title('$V^{-1}$ is Inverse of Eigenvectors')\n",
    "plt.show()"
   ]
  },
  {
   "cell_type": "markdown",
   "id": "432c5f96",
   "metadata": {},
   "source": [
    "## 15.5 Conditions for diagonalization"
   ]
  },
  {
   "cell_type": "markdown",
   "id": "2a7db034",
   "metadata": {},
   "source": [
    "## 15.6 Distinct, repeated eigenvalues"
   ]
  },
  {
   "cell_type": "markdown",
   "id": "41e04279",
   "metadata": {},
   "source": [
    "## 15.7 Complex solutions"
   ]
  },
  {
   "cell_type": "markdown",
   "id": "e140f7c9",
   "metadata": {},
   "source": [
    "## 15.8 Symmetric matrices"
   ]
  },
  {
   "cell_type": "markdown",
   "id": "e40e6654",
   "metadata": {},
   "source": [
    "## 15.9 Eigenvalues of singular matrices"
   ]
  },
  {
   "cell_type": "markdown",
   "id": "b6523668",
   "metadata": {},
   "source": [
    "## 15.10 Eigenlayers of a matrix"
   ]
  },
  {
   "cell_type": "markdown",
   "id": "d202f266",
   "metadata": {},
   "source": [
    "## 15.11 Matrix powers and inverse"
   ]
  },
  {
   "cell_type": "markdown",
   "id": "7ee264f7",
   "metadata": {},
   "source": [
    "## 15.12 Generalized eigendecomposition"
   ]
  },
  {
   "cell_type": "markdown",
   "id": "a2c3ea19",
   "metadata": {},
   "source": [
    "## 15.15 Code challenges"
   ]
  },
  {
   "cell_type": "code",
   "execution_count": null,
   "id": "fa35e7cd",
   "metadata": {},
   "outputs": [],
   "source": []
  }
 ],
 "metadata": {
  "kernelspec": {
   "display_name": "Python 3 (ipykernel)",
   "language": "python",
   "name": "python3"
  },
  "language_info": {
   "codemirror_mode": {
    "name": "ipython",
    "version": 3
   },
   "file_extension": ".py",
   "mimetype": "text/x-python",
   "name": "python",
   "nbconvert_exporter": "python",
   "pygments_lexer": "ipython3",
   "version": "3.8.10"
  }
 },
 "nbformat": 4,
 "nbformat_minor": 5
}
