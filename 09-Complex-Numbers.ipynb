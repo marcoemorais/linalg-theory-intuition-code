{
 "cells": [
  {
   "cell_type": "markdown",
   "id": "a98ad5d1",
   "metadata": {},
   "source": [
    "# 9 - Complex Numbers\n",
    "- 9.1 Complex numbers and $\\mathbb{C}$\n",
    "- 9.2 What are complex numbers?\n",
    "- 9.3 The complex conjugate\n",
    "- 9.4 Complex arithmetic\n",
    "- 9.5 Complex dot products\n",
    "- 9.6 Special complex matrices\n",
    "- 9.7 Exercises\n",
    "- 9.8 Answers\n",
    "- 9.9 Code challenges\n",
    "- 9.10 Code solutions\n",
    "\n",
    "Notes, code snippets, and the end of chapter exercises from the book _Linear Algebra: Theory, Intuition, Code_ by Mike X Cohen. \n",
    "\n",
    "Find more information about the book on [github](https://github.com/mikexcohen/LinAlgBook) and [amazon](https://www.amazon.com/Linear-Algebra-Theory-Intuition-Code/dp/9083136604)."
   ]
  },
  {
   "cell_type": "code",
   "execution_count": 1,
   "id": "a3db702b",
   "metadata": {},
   "outputs": [],
   "source": [
    "import numpy as np"
   ]
  },
  {
   "cell_type": "markdown",
   "id": "b2fd1b7b",
   "metadata": {},
   "source": [
    "## 9.1 Complex numbers and $\\mathbb{C}$\n",
    "$$\n",
    "i = \\sqrt{-1} \\\\\n",
    "i^2 = -1 \\\\\n",
    "$$"
   ]
  },
  {
   "cell_type": "markdown",
   "id": "3267607f",
   "metadata": {},
   "source": [
    "## 9.2 What are complex numbers?\n",
    "\n",
    "### Algebraic\n",
    "- A complex number $a + bi$ is a number having a real component $a$ and an imaginary component $b$.\n",
    "    - The imaginary component is some multiple of $i = \\sqrt{-1}$.\n",
    "- The notation used for complex numbers will vary, $a + bi$ is sometimes also written as 2-tuple $(a, bi)$.\n",
    "\n",
    "### Geometric\n",
    "- A complex number $a + bi$ is shown in the figure below.\n",
    "    - The real component $a$ is shown on the horizontal axis labeled _Re_.\n",
    "    - The imaginary component $bi$ is shown on the vertical axis labeled _Im_.\n",
    "\n",
    "<img src=\"images/250px-A_plus_bi.svg.png\">\n",
    "<div style=\"text-align:center;\">Credit: <a href=\"https://commons.wikimedia.org/wiki/File:A_plus_bi.svg\">A plus bi</a> by IkamusumeFan / <a href=\"https://creativecommons.org/licenses/by-sa/4.0/deed.en\">CC-BY-4.0</a></div>"
   ]
  },
  {
   "cell_type": "code",
   "execution_count": 2,
   "id": "dfee6882",
   "metadata": {},
   "outputs": [],
   "source": [
    "# Demonstration of complex number type.\n",
    "z      = 3 + 4j\n",
    "zprime = complex(3, 4)\n",
    "\n",
    "np.testing.assert_equal(z, zprime)"
   ]
  },
  {
   "cell_type": "markdown",
   "id": "8b170909",
   "metadata": {},
   "source": [
    "## 9.3 The complex conjugate\n",
    "\n",
    "### Algebraic\n",
    "- Conjugate is formed by flipping the sign of imaginary component of the number.\n",
    "    - Example: The conjugate of the complex number $z = a + bi$ is $z^* = a - bi$.\n",
    "    - Notation used for conjugate varies $z^*$ or $\\bar{z}$ are in common use\n",
    "\n",
    "### Geometric\n",
    "- The geometric interpretation of the conjugate as a rotation about the imaginary axis is shown in the figure below.\n",
    "\n",
    "<img src=\"images/220px-Complex_conjugate_picture.svg.png\">\n",
    "<div style=\"text-align:center;\">Credit: <a href=\"https://commons.wikimedia.org/wiki/File:Complex_conjugate_picture.svg\">Complex conjugate picture</a> by Oleg Alexandrov / <a href=\"https://creativecommons.org/licenses/by-sa/3.0/deed.en\">CC-BY-3.0</a></div>"
   ]
  },
  {
   "cell_type": "code",
   "execution_count": 3,
   "id": "b9be7f1d",
   "metadata": {},
   "outputs": [
    {
     "name": "stdout",
     "output_type": "stream",
     "text": [
      "z : (3+4j)\n",
      "z*: (3-4j)\n",
      "w : (5-6j)\n",
      "w*: (5+6j)\n"
     ]
    }
   ],
   "source": [
    "# Demonstration of complex conjugate.\n",
    "z = 3 + 4j\n",
    "w = 5 - 6j\n",
    "\n",
    "print(\"z :\", z)\n",
    "print(\"z*:\", z.conjugate())\n",
    "\n",
    "print(\"w :\", w)\n",
    "print(\"w*:\", w.conjugate())"
   ]
  },
  {
   "cell_type": "markdown",
   "id": "56c173c3",
   "metadata": {},
   "source": [
    "## 9.4 Complex arithmetic\n",
    "\n",
    "### Addition and Subtraction\n",
    "Addition of complex numbers is similar to vector addition in that the real and imaginary components are added separately.\n",
    "\n",
    "```\n",
    "z = 3 + 4i\n",
    "w = 5 - 6i\n",
    "\n",
    "z + w = (3 + 5) + (4 + -6)i\n",
    "      = 8 - 2i\n",
    "\n",
    "z - w = (3 - 5) + (4 - -6)i\n",
    "      = -2 + 10i\n",
    "```\n",
    "\n",
    "### Scalar Multiplication\n",
    "Multiplying a complex number by a scalar is similar to multiplying a vector by a scalar, the real and imaginary components are separately scaled.\n",
    "\n",
    "```\n",
    "alpha = 5\n",
    "z     = 3 + 4i\n",
    "\n",
    "alpha * z = 5(3 + 4i)\n",
    "          = 15 + 20i\n",
    "```\n",
    "\n",
    "### Complex-Complex Multiplication\n",
    "Multiply a pair of complex numbers by distributing the components. \n",
    "\n",
    "$$\n",
    "(a + bi) (c + di) \\\\\n",
    "= ac + adi + bci + bdi^2 \\\\\n",
    "= ac - bd + (ad + bc)i \\\\\n",
    "$$\n",
    "\n",
    "```\n",
    "z = 3 + 4i\n",
    "w = 5 - 6i\n",
    "\n",
    "z * w = (3 + 4i) * (5 - 6i)\n",
    "      = 15 - 18i + 20i - 24(-1)\n",
    "      = 15 - 18i + 20i + 24\n",
    "      = 39 + 2i\n",
    "```\n",
    "\n",
    "#### Multiplying a Complex Number and Its Conjugate\n",
    "Multiplying a complex number and its conjugate always eliminates the imaginary component.\n",
    "\n",
    "$$\n",
    "(a + bi) (a - bi) \\\\\n",
    "= a^2 - abi + abi - b^2i^2 \\\\\n",
    "= a^2 + b^2 \\\\\n",
    "$$\n",
    "\n",
    "```\n",
    "z = 3 + 4i\n",
    "  = 3^2 + 4^2 + 0i\n",
    "  = 25 + 0i\n",
    "```"
   ]
  },
  {
   "cell_type": "code",
   "execution_count": 4,
   "id": "4ec025a3",
   "metadata": {},
   "outputs": [
    {
     "name": "stdout",
     "output_type": "stream",
     "text": [
      "z + w    : (8-2j)\n",
      "z - w    : (-2+10j)\n",
      "alpha * z: (15+20j)\n",
      "z * w    : (39+2j)\n",
      "z * z*   : (25+0j)\n"
     ]
    }
   ],
   "source": [
    "# Demonstration of complex arithmetic.\n",
    "z     = 3 + 4j\n",
    "w     = 5 - 6j\n",
    "alpha = 5\n",
    "\n",
    "print(\"z + w    :\", z + w)\n",
    "print(\"z - w    :\", z - w)\n",
    "print(\"alpha * z:\", alpha * z)\n",
    "print(\"z * w    :\", z * w)\n",
    "print(\"z * z*   :\", z * z.conjugate())"
   ]
  },
  {
   "cell_type": "markdown",
   "id": "cf643063",
   "metadata": {},
   "source": [
    "## 9.5 Complex dot products\n",
    "\n",
    "### Hermitian Matrix\n",
    "A Hermitian matrix is a complex square matrix that is equal to its conjugate transpose.\n",
    "\n",
    "$$\n",
    "A = \\bar{A^T} = A^H\n",
    "$$\n",
    "\n",
    "Example of a Hermitian matrix.\n",
    "\n",
    "$$\n",
    "\\begin{bmatrix}\n",
    "2 & 3 - 2i & 2 + 2i \\\\\n",
    "3 + 2i & 5 & 8 \\\\\n",
    "2 - 2i & 8 & 9 \\\\\n",
    "\\end{bmatrix}\n",
    "$$\n",
    "\n",
    "Notes\n",
    "- Notation: Use superscript _H_ to indicate matrix is Hermitian.\n",
    "- Hermitian is a blend of a symmetric matrix $A = A^T$ and a skew-symmetric matrix $A = -A^T$.\n",
    "- Diagonal elements must be real-valued since only real valued numbers are equal to the conjugate.\n",
    "\n",
    "### Dot Product\n",
    "Dot product of complex vectors is defined as product of conjugate transpose (_Hermitian_) and the complex vector.\n",
    "\n",
    "$$\n",
    "v = \\begin{bmatrix}a + bi \\\\ c + di\\end{bmatrix}, v^H = \\begin{bmatrix}a - bi & c - di\\end{bmatrix} \\\\\n",
    "v^H v = \\begin{bmatrix}a - bi & c - di\\end{bmatrix} \\begin{bmatrix}a + bi \\\\ c + di\\end{bmatrix} \\\\\n",
    "      = (a + bi) (a - bi) + (c + di) (c - di) \\\\\n",
    "      = a^2 + b^2 + c^2 + d^2\n",
    "$$\n",
    "\n",
    "Notes\n",
    "- Dot product of complex vectors produces a scalar."
   ]
  },
  {
   "cell_type": "code",
   "execution_count": 5,
   "id": "6845c414",
   "metadata": {},
   "outputs": [],
   "source": [
    "# Demonstration of complex conjugate transpose.\n",
    "# Note: Requires use of np.matrix.\n",
    "z = np.matrix([1, 5 + 3j, 4 - 2j])\n",
    "zH = np.matrix([[1],[5 - 3j],[4 + 2j]])\n",
    "\n",
    "np.testing.assert_equal(z.H, zH)  # Use .H to access the complex conjugate.\n",
    "\n",
    "# Demonstration of complex dot product.\n",
    "v = np.array([3 + 4j, 5 - 6j])\n",
    "vHv = 3**2 + 4**2 + 5**2 + 6**2\n",
    "\n",
    "np.testing.assert_equal(np.vdot(v, v), vHv)"
   ]
  },
  {
   "cell_type": "markdown",
   "id": "9454d90a",
   "metadata": {},
   "source": [
    "## 9.6 Special complex matrices\n",
    "\n",
    "### Unitary Matrix\n",
    "A square matrix $U$ is unitary if the conjugate transpose is also the inverse.\n",
    "\n",
    "$$\n",
    "U U^H = U^H U = I\n",
    "$$\n",
    "\n",
    "Notes\n",
    "- Unitary matrices are complex analog of orthogonal matrices $Q Q^T = Q^T Q = I$. "
   ]
  },
  {
   "cell_type": "markdown",
   "id": "0fb3981e",
   "metadata": {},
   "source": [
    "## 9.9 Code challenges\n"
   ]
  },
  {
   "cell_type": "markdown",
   "id": "adee724b",
   "metadata": {},
   "source": [
    "> Confirm that the matrix shown below is unitary and that $U U^H \\neq U U^T$.\n",
    "\n",
    "$$\n",
    "\\frac{1}{2}\n",
    "\\begin{bmatrix} \n",
    "1 + i & 1 - i \\\\\n",
    "1 - i & 1 + i \\\\\n",
    "\\end{bmatrix}\n",
    "$$"
   ]
  },
  {
   "cell_type": "code",
   "execution_count": 6,
   "id": "4824ef91",
   "metadata": {},
   "outputs": [
    {
     "name": "stdout",
     "output_type": "stream",
     "text": [
      "U U^H\n",
      " [[1.+0.j 0.+0.j]\n",
      " [0.+0.j 1.+0.j]]\n",
      "U U^T\n",
      " [[0.+0.j 1.+0.j]\n",
      " [1.+0.j 0.+0.j]]\n"
     ]
    }
   ],
   "source": [
    "# Demonstration of unitary matrix.\n",
    "U = 0.5 * np.matrix([[1+1j, 1-1j],[1-1j, 1+1j]])\n",
    "I = np.eye(2)\n",
    "\n",
    "# Use .H to access the complex conjugate.\n",
    "np.testing.assert_equal(U @ U.H, I, \"U U^H = I\")\n",
    "np.testing.assert_equal(U.H @ U, I, \"U^H U = I\")\n",
    "\n",
    "print(\"U U^H\\n\", U @ U.H)\n",
    "\n",
    "np.testing.assert_equal(np.not_equal(U @ U.T, U @ U.H), True, \"U U^T != U U^H\")\n",
    "np.testing.assert_equal(np.not_equal(U.T @ U, U.H @ U), True, \"U^T U != U^H U\")\n",
    "\n",
    "print(\"U U^T\\n\", U @ U.T)"
   ]
  },
  {
   "cell_type": "markdown",
   "id": "bb5b46b8",
   "metadata": {},
   "source": [
    "> In Chapter 6 you learned two methods (additive and multiplicative) to create a symmetric matrix from a non-symmetric matrix. What happens when you apply those methods to complex matrices (replace the transpose with the conjugate transpose)? To find out, generate a 3 X 3 matrix of complex random numbers. Then apply those two methods to generate two new matrices, and test whether those matrices are (1) symmetric, (2) Hermitian, or (3) neither.\n",
    "\n",
    "1. Additive method: $\\frac{1}{2} (A^T + A)$\n",
    "2. Multiplicative method: $A^T A$"
   ]
  },
  {
   "cell_type": "code",
   "execution_count": 7,
   "id": "b2efc5cd",
   "metadata": {},
   "outputs": [
    {
     "name": "stdout",
     "output_type": "stream",
     "text": [
      "additive, not symmetric\n",
      " \n",
      "Arrays are not almost equal to 7 decimals symmetric, A = A^T\n",
      " ACTUAL: matrix([[0.14668183+0.j        , 0.35763354+0.20485627j,\n",
      "         0.65069944-0.34115109j],\n",
      "        [0.35763354-0.20485627j, 0.2835543 +0.j        ,...\n",
      " DESIRED: matrix([[0.14668183+0.j        , 0.35763354-0.20485627j,\n",
      "         0.65069944+0.34115109j],\n",
      "        [0.35763354+0.20485627j, 0.2835543 +0.j        ,...\n",
      "multiplicative, not symmetric\n",
      " \n",
      "Arrays are not almost equal to 7 decimals symmetric, A = A^T\n",
      " ACTUAL: matrix([[1.50869608+0.j        , 1.555526  -0.56341903j,\n",
      "         0.64872761-1.09578369j],\n",
      "        [1.555526  +0.56341903j, 2.08888442+0.j        ,...\n",
      " DESIRED: matrix([[1.50869608+0.j        , 1.555526  +0.56341903j,\n",
      "         0.64872761+1.09578369j],\n",
      "        [1.555526  -0.56341903j, 2.08888442+0.j        ,...\n"
     ]
    }
   ],
   "source": [
    "def randcmat(m, n):\n",
    "    \"\"\"\n",
    "    randcmat returns a matrix of random complex values with dimensions m \\times n\n",
    "\n",
    "    :param m: int            Number of rows.\n",
    "    :param n: int            Number of columns.\n",
    "    :return: numpy.ndarray   Matrix with dimensions m \\times n.\n",
    "    \"\"\"\n",
    "    r = np.random.random((m,n))\n",
    "    i = np.random.random((m,n))\n",
    "    return np.asmatrix(r + i*1j)\n",
    "\n",
    "\n",
    "def herm_add(A):\n",
    "    \"\"\"\n",
    "    herm_add returns a Hermitian matrix from A using the additive method\n",
    "\n",
    "    :param A: numpy.ndarray  Matrix A\n",
    "    :return: numpy.ndarray   Hermitian matrix A = A^H\n",
    "    \"\"\"\n",
    "    return (A + A.H) / 2.\n",
    "\n",
    "\n",
    "def herm_mult(A):\n",
    "    \"\"\"\n",
    "    herm_mult returns a Hermitian matrix from A using the multiplicative method\n",
    "\n",
    "    :param A: numpy.ndarray  Matrix A\n",
    "    :return: numpy.ndarray   Hermitian matrix A = A^H\n",
    "    \"\"\"\n",
    "    return A.H @ A\n",
    "\n",
    "\n",
    "A = randcmat(3,3)\n",
    "\n",
    "# Use additive method. Show Hermitian matrix is not symmetric.\n",
    "A1 = herm_add(A)\n",
    "try:\n",
    "    np.testing.assert_almost_equal(A1, A1.T, err_msg=\"symmetric, A = A^T\")\n",
    "except AssertionError as err:\n",
    "    print(\"additive, not symmetric\\n\", err)\n",
    "try:\n",
    "    np.testing.assert_almost_equal(A1, A1.H, err_msg=\"Hermitian, A = A^H\")\n",
    "except AssertionError as err:\n",
    "    print(\"additive, not Hermitian\\n\", err)\n",
    "\n",
    "# Use multiplicative method. Show Hermitian matrix is not symmetric.\n",
    "A2 = herm_mult(A)\n",
    "try:\n",
    "    np.testing.assert_almost_equal(A2, A2.T, err_msg=\"symmetric, A = A^T\")\n",
    "except AssertionError as err:\n",
    "    print(\"multiplicative, not symmetric\\n\", err)\n",
    "try:\n",
    "    np.testing.assert_almost_equal(A2, A2.H, err_msg=\"Hermitian, A = A^H\")\n",
    "except AssertionError as err:\n",
    "    print(\"multiplicative, not Hermitian\\n\", err)"
   ]
  },
  {
   "cell_type": "code",
   "execution_count": null,
   "id": "02fc41b1",
   "metadata": {},
   "outputs": [],
   "source": []
  }
 ],
 "metadata": {
  "kernelspec": {
   "display_name": "Python 3 (ipykernel)",
   "language": "python",
   "name": "python3"
  },
  "language_info": {
   "codemirror_mode": {
    "name": "ipython",
    "version": 3
   },
   "file_extension": ".py",
   "mimetype": "text/x-python",
   "name": "python",
   "nbconvert_exporter": "python",
   "pygments_lexer": "ipython3",
   "version": "3.8.10"
  }
 },
 "nbformat": 4,
 "nbformat_minor": 5
}
