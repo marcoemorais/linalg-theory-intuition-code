{
 "cells": [
  {
   "cell_type": "markdown",
   "id": "2b3a73d7",
   "metadata": {},
   "source": [
    "# 8 - Matrix Spaces\n",
    "- 8.1 Column space of a matrix\n",
    "- 8.2 Column space: $A$ and $AA^T$\n",
    "- 8.3 Determining whether $v \\in C(A)$\n",
    "- 8.4 Row space of a matrix\n",
    "- 8.5 Row spaces of $A$ and $A^TA$\n",
    "- 8.6 Null space of a matrix\n",
    "- 8.7 Geometry of the null space\n",
    "- 8.8 Orthogonal subspaces\n",
    "- 8.9 Matrix space orthogonalities\n",
    "- 8.10 Dimensionalities of matrix spaces\n",
    "- 8.11 More on $Ax = b$ and $Ay = 0$\n",
    "- 8.12 Exercises\n",
    "- 8.13 Answers\n",
    "- 8.14 Code challenges\n",
    "- 8.15 Code solutions"
   ]
  },
  {
   "cell_type": "code",
   "execution_count": 1,
   "id": "07d2dc3f",
   "metadata": {},
   "outputs": [],
   "source": [
    "import numpy as np\n",
    "import scipy.linalg as spla"
   ]
  },
  {
   "cell_type": "markdown",
   "id": "d5823e08",
   "metadata": {},
   "source": [
    "## 8.1 Column space of a matrix, $C(\\textbf{A})$\n",
    "Column space is the subspace spanned by all columns of a matrix $\\textbf{A}$.\n",
    "\n",
    "$$\n",
    "C(\\textbf{A}) = \\text{span}(a_1, \\dots, a_n)\n",
    "$$\n",
    "\n",
    "Notes\n",
    "- Vectors that span a subspace must also be linearly independent to be considered as a basis for the subspace.\n",
    "    - Not all column spaces form a basis.\n",
    "- The dimensionality of the column space is given by the number of **rows** in the matrix.\n",
    "    - The column space of $M \\times N$ matrix is in $\\mathbb{R^M}$."
   ]
  },
  {
   "cell_type": "markdown",
   "id": "269e13d4",
   "metadata": {},
   "source": [
    "## 8.2 Column space: $A$ and $AA^T$\n",
    "Column space of matrix and linear weighted combination (LWC) of columns of $\\textbf{A}$ are equal.\n",
    "\n",
    "$$\n",
    "C(A) = C(AA^T)\n",
    "$$\n",
    "\n",
    "Notes\n",
    "- Based on the column interpretation of matrix multiplication in which $A A^T$ is linear weighted combination of the columns of $A$.\n",
    "- Proof: Linear combination of a column of vectors always stays in the same subspace."
   ]
  },
  {
   "cell_type": "markdown",
   "id": "f8571883",
   "metadata": {},
   "source": [
    "## 8.3 Determining whether $v \\in C(A)$\n",
    "The vector $\\textbf{v}$ is in the column space of $\\textbf{A}$ when a linear weighted combination (LWC) of the columns of $\\textbf{A}$ produce $\\textbf{v}$.\n",
    "\n",
    "$$\n",
    "Ax = v \\rightarrow v \\in C(A)\n",
    "$$\n",
    "\n",
    "Notes\n",
    "- Proof: IFF $\\text{rank}(\\textbf{A}) = \\text{rank}(\\textbf{A}|\\textbf{v})$ then $\\textbf{v}$ is in the span of $\\textbf{A}$. "
   ]
  },
  {
   "cell_type": "markdown",
   "id": "702918f9",
   "metadata": {},
   "source": [
    "## 8.4 Row space of a matrix, $R(\\textbf{A})$\n",
    "Row space is the subspace spanned by all rows of a matrix and denoted as $R(\\textbf{A})$.\n",
    "- Row space equals the column space of the transpose $R(A) = C(A^T)$.\n",
    "\n",
    "Notes\n",
    "- Vectors that span a subspace must also be linearly independent to be considered as a basis for the subspace.\n",
    "    - Not all row spaces form a basis.\n",
    "- The dimensionality of the row space is given by the number of **columns** in the matrix.\n",
    "    - The row space of $M \\times N$ matrix is in $\\mathbb{R^N}$."
   ]
  },
  {
   "cell_type": "markdown",
   "id": "3be6912a",
   "metadata": {},
   "source": [
    "## 8.5 Row spaces of $A$ and $A^TA$\n",
    "Row space of matrix and linear weighted combination (LWC) of rows of $\\textbf{A}$ are equal. \n",
    "\n",
    "$$\n",
    "R(A) = R(A^TA)\n",
    "$$\n",
    "\n",
    "### Determining whether $u \\in R(A)$\n",
    "The vector $\\textbf{u}$ is in the row space of $\\textbf{A}$ when a linear weighted combination (LWC) of the rows of $\\textbf{A}$ produce $\\textbf{u}$.\n",
    "\n",
    "$$\n",
    "w^T A = u^T \\rightarrow u \\in R(A)\n",
    "$$"
   ]
  },
  {
   "cell_type": "markdown",
   "id": "5ee093e9",
   "metadata": {},
   "source": [
    "## 8.6 Null space of a matrix, $N(\\textbf{A})$\n",
    "Null space of a matrix $N(\\textbf{A})$ is the subspace containing all of the vectors that satisfy the equation $A y = 0$ where $y \\neq 0$.\n",
    "\n",
    "Notes\n",
    "- Null space refers to the linear combination of the columns of $A$.\n",
    "- Full rank matrices have an empty null space.\n",
    "- Reduced rank have a non-empty null space.\n",
    "- The vector $\\textbf{y}$ is not necessarily unique.\n",
    "\n",
    "### Left Null Space\n",
    "Left null space of a matrix is the subspace containing all of the vectors that satisfy the equation $y^T A = 0^T$ where $y \\neq 0$.\n",
    "\n",
    "Notes\n",
    "- Left null space refers to the linear combination of the rows of $A$.\n",
    "- IFF $A = A^T$, then the left null space is equivalent to the null space of the transpose $N(A) = N(A^T)$."
   ]
  },
  {
   "cell_type": "code",
   "execution_count": 2,
   "id": "6ad3e1c2",
   "metadata": {},
   "outputs": [
    {
     "name": "stdout",
     "output_type": "stream",
     "text": [
      "A\n",
      " [[1 2 3]\n",
      " [3 1 4]\n",
      " [4 4 8]]\n",
      "y\n",
      " [[-0.57735027]\n",
      " [-0.57735027]\n",
      " [ 0.57735027]]\n"
     ]
    }
   ],
   "source": [
    "# Find the null space of the matrix.\n",
    "A = np.array([[1,2,3],[3,1,4],[4,4,8]], dtype=int)\n",
    "y = spla.null_space(A)\n",
    "\n",
    "print(\"A\\n\", A)\n",
    "print(\"y\\n\", y)\n",
    "\n",
    "# Check whether Ay = 0.\n",
    "np.testing.assert_almost_equal(A @ y, np.zeros((A.shape[0],y.shape[1])))"
   ]
  },
  {
   "cell_type": "markdown",
   "id": "4fc85e00",
   "metadata": {},
   "source": [
    "## 8.7 Geometry of the null space\n",
    "1. Mental model of the null space as a subspace in which the product $Ay$ produces a zero vector.\n",
    "2. The reduced rank matrix $A$ can still have some vector $x$ such that $Ax \\neq 0$."
   ]
  },
  {
   "cell_type": "markdown",
   "id": "c82bbd69",
   "metadata": {},
   "source": [
    "## 8.8 Orthogonal subspaces\n",
    "Subspaces $\\textbf{S}$ and $\\textbf{M}$ are orthogonal subspaces if $v \\in S$ and $w \\in M$ and $v \\perp w$.\n",
    "\n",
    "Notes\n",
    "- An example of an orthogonal subspace is a plane in $\\mathbb{R}^3$ and a vector perpindicular to the plane.\n",
    "- Recall that subspace must contain the zero vector $\\textbf{0}$.\n",
    "\n",
    "### Orthogonal Complements\n",
    "Any ambient space $\\mathbb{R}^N$ can be decomposed into subspaces $W$ and $V$ such that $W \\cup V$ spans all of $\\mathbb{R}^N$ and $W \\perp V$.\n",
    "\n",
    "Notes\n",
    "- Mutually orthogonal means that any vector cannot be both in $\\textbf{W}$ and in $\\textbf{V}$"
   ]
  },
  {
   "cell_type": "markdown",
   "id": "3476cc14",
   "metadata": {},
   "source": [
    "## 8.9 Matrix space orthogonalities\n",
    "For any $M \\times N$ matrix the column space and left null space are orthogonal complements $C(A) \\cup N(A^T) \\iff \\mathbb{R}^M$.\n",
    "\n",
    "For any $M \\times N$ matrix the row space and null space are orthogonal complements $R(A) \\cup N(A) \\iff \\mathbb{R}^N$ \n",
    "\n",
    "(_inverse of previous statement_).\n",
    "\n",
    "Notes\n",
    "- Every vector in $\\mathbb{R}^M$ is either in the column space or left null space, but not both.\n",
    "- The orthogonal complement spans all of $\\mathbb{R}^M$.\n",
    "- A full rank matrix spans all of $\\mathbb{R}^M$ and the left null space will be empty.\n",
    "\n",
    "### Finding a Basis\n",
    "Find a basis for the column space by taking the linearly independent column vectors of the matrix.\n",
    "\n",
    "Example\n",
    "- The matrix $A = \\begin{bmatrix} 1 & 1 \\\\ 2 & 2 \\end{bmatrix}$ has $\\text{rank}(A) = 1$ and thus the vector $\\begin{bmatrix} 1 \\\\ 2 \\end{bmatrix}$ is a basis for the column space."
   ]
  },
  {
   "cell_type": "markdown",
   "id": "44c6e300",
   "metadata": {},
   "source": [
    "## 8.10 Dimensionalities of matrix spaces\n",
    "$$\n",
    "\\begin{align}\n",
    "\\text{dim}(C(\\textbf{A})) + \\text{dim}(N(\\textbf{A}^T)) &= M \\\\\n",
    "\\text{dim}(R(\\textbf{A})) + \\text{dim}(N(\\textbf{A})) &= N \\\\\n",
    "\\end{align}\n",
    "$$"
   ]
  },
  {
   "cell_type": "markdown",
   "id": "0bbac072",
   "metadata": {},
   "source": [
    "## 8.11 More on $Ax = b$ and $Ay = 0$\n",
    "\n",
    "### $Ax = b$\n",
    "Answers the question\n",
    "> Is there a weighted combination of the columns of A that produces the vector b with the weights from vector x?\n",
    "\n",
    "- Equation has an exact solution when b is in the column space of A eg $b \\in C(A)$.\n",
    "- There also exists an approximate solution $\\hat{b} \\in C(A)$ that is as close as possible to exact solution $b$.\n",
    "\n",
    "### $Ay = 0$\n",
    "Answers the question\n",
    "> Is there a weighted combination of the columns of A that produces the zero vector with the weights of the nonzero vector y?\n",
    "\n",
    "- Related to the solution of the characteristic equation $(A - \\lambda I) y = 0$ where $\\lambda$ represents the eigenvalues and $y$ the eigenvectors.\n",
    "    - Recall that shifting the matrix by a multiple of the identity matrix improves the conditioning of the resulting matrix."
   ]
  },
  {
   "cell_type": "markdown",
   "id": "7fa956e5",
   "metadata": {},
   "source": [
    "## 8.14 Code challenges"
   ]
  },
  {
   "cell_type": "markdown",
   "id": "6deaefbe",
   "metadata": {},
   "source": [
    "> 1. Create two $4 \\times 4$ matrices with rank=3. Call those matrices $A$ and $B$. Then find a vector $n$ in the null space of $A$. Show that $BAn$ is the zeros vector while $ABn$ is not."
   ]
  },
  {
   "cell_type": "code",
   "execution_count": 3,
   "id": "65a2a3ab",
   "metadata": {},
   "outputs": [],
   "source": [
    "def rank(m, n, r):\n",
    "    \"\"\"\n",
    "    rank returns a matrix of random values with dimensions m \\times n and rank r \n",
    "\n",
    "    :param m: int            Number of rows.\n",
    "    :param n: int            Number of columns.\n",
    "    :param r: int            Rank.\n",
    "    :return: numpy.ndarray   Matrix with dimensions m \\times n and rank r.\n",
    "    \"\"\"\n",
    "    assert r <= m and r <=n\n",
    "\n",
    "    A = np.random.random((m, r))\n",
    "    B = np.random.random((r, n))\n",
    "    return A @ B\n",
    "\n",
    "\n",
    "A = rank(4, 4, 3)\n",
    "B = rank(4, 4, 3)\n",
    "n = spla.null_space(A)\n",
    "\n",
    "# Verify that BAn is the zeros vector since An = 0.\n",
    "np.testing.assert_almost_equal(B @ A @ n, np.zeros((n.size, 1)))\n",
    "\n",
    "# Verify that ABn is not the zeros vector since Bn != 0.\n",
    "np.testing.assert_equal(np.not_equal(A @ B @ n, np.zeros((n.size, 1))), True)"
   ]
  },
  {
   "cell_type": "markdown",
   "id": "8e4dd05a",
   "metadata": {},
   "source": [
    "> 1. The goal of this code challenge is to confirm the subspace dimensionalities expressed in section 8.10. Create a $16 \\times 11$ matrix with rank=9.  Determine the dimensionalities of the left and right nullspace. Confirm that the dimensionality of the column space and left null space is equal to the number of rows. Confirm that the dimensionality of the row space and null space is equal to the number of columns."
   ]
  },
  {
   "cell_type": "code",
   "execution_count": 4,
   "id": "dc78e5e3",
   "metadata": {},
   "outputs": [],
   "source": [
    "m, n, r = 16, 11, 9\n",
    "A = rank(m, n, r)\n",
    "\n",
    "dim_left_nullspace = spla.null_space(A.T).shape[1]\n",
    "dim_right_nullspace = spla.null_space(A).shape[1]\n",
    "rankA = np.linalg.matrix_rank(A)\n",
    "\n",
    "# Verify dim(C(A)) + dim(N(A^T)) = M.\n",
    "np.testing.assert_equal(rankA + dim_left_nullspace, m)\n",
    "\n",
    "# Verify dim(R(A)) + dim(N(A)) = N.\n",
    "np.testing.assert_equal(rankA + dim_right_nullspace, n)"
   ]
  },
  {
   "cell_type": "code",
   "execution_count": null,
   "id": "252544c2",
   "metadata": {},
   "outputs": [],
   "source": []
  }
 ],
 "metadata": {
  "kernelspec": {
   "display_name": "Python 3 (ipykernel)",
   "language": "python",
   "name": "python3"
  },
  "language_info": {
   "codemirror_mode": {
    "name": "ipython",
    "version": 3
   },
   "file_extension": ".py",
   "mimetype": "text/x-python",
   "name": "python",
   "nbconvert_exporter": "python",
   "pygments_lexer": "ipython3",
   "version": "3.8.10"
  }
 },
 "nbformat": 4,
 "nbformat_minor": 5
}
