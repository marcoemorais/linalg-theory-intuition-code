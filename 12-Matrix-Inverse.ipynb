{
 "cells": [
  {
   "cell_type": "markdown",
   "id": "d9d98a73",
   "metadata": {},
   "source": [
    "# 12 - Matrix Inverse\n",
    "- 12.1 Concepts and applications\n",
    "- 12.2 Inverse of a diagonal matrix\n",
    "- 12.3 Inverse of a $2 \\times 2$ matrix\n",
    "- 12.4 MCA Algorithm\n",
    "- 12.5 Inverse via row reduction\n",
    "- 12.6 Left inverse\n",
    "- 12.7 Right inverse\n",
    "- 12.8 Pseudoinverse, part 1\n",
    "- 12.9 Exercises\n",
    "- 12.10 Answers\n",
    "- 12.11 Coding challenges\n",
    "- 12.12 Code solutions"
   ]
  },
  {
   "cell_type": "markdown",
   "id": "88e6bce2",
   "metadata": {},
   "source": [
    "## 12.1 Concepts and applications\n",
    "Inverse is the matrix analog of the multiplicative inverse (division).\n",
    "\n",
    "$$\n",
    "A A^{-1} = A^{-1} A = I\n",
    "$$\n",
    "\n",
    "Inverse of the inverse is the original matrix.\n",
    "\n",
    "$$\n",
    "(A^{-1})^{-1} = A\n",
    "$$\n",
    "\n",
    "Transpose of the inverse is equal to the inverse of the transpose. Notation for this is $A^{-T}$.\n",
    "\n",
    "$$\n",
    "(A^{-1})^{T} = (A^{T})^{-1} = A^{-T}\n",
    "$$\n",
    "\n",
    "Note\n",
    "- Inverse of a square matrix, if it exists, is the same whether the inverse pre-multiplies the matrix on the left or post-multiplies the matrix on the right.\n",
    "- Inverse of a matrix is unique.\n",
    "\n",
    "### Inverse of Symmetric Matrices\n",
    "Inverse of a symmetric matrix is itself symmetric. If $A = A^T$ then $A^{-1} = A^{-T}$."
   ]
  },
  {
   "cell_type": "markdown",
   "id": "4dbafcd8",
   "metadata": {},
   "source": [
    "## 12.2 Inverse of a diagonal matrix\n",
    "Inverse of a diagonal matrix is equal to the reciprocal of the diagonal elements.\n",
    "\n",
    "Example\n",
    "$$\n",
    "A =\n",
    "\\begin{bmatrix}\n",
    "d_1 & 0 & 0 \\\\\n",
    "0 & d_2 & 0 \\\\\n",
    "0 & 0 & d_3 \\\\\n",
    "\\end{bmatrix} \\quad\n",
    "A^{-1} = \n",
    "\\begin{bmatrix}\n",
    "\\frac{1}{d_1} & 0 & 0 \\\\\n",
    "0 & \\frac{1}{d_2} & 0 \\\\\n",
    "0 & 0 & \\frac{1}{d_3} \\\\\n",
    "\\end{bmatrix}\n",
    "$$\n",
    "\n",
    "Note\n",
    "- If any of the diagonal elements are 0, then the matrix must be singular and inverse does not exist."
   ]
  },
  {
   "cell_type": "markdown",
   "id": "57d86466",
   "metadata": {},
   "source": [
    "## 12.3 Inverse of a $2 \\times 2$ matrix\n",
    "Inverse of a $2 \\times 2$ matrix is given as a special case of Cramer's Rule.\n",
    "\n",
    "$$\n",
    "A = \n",
    "\\begin{bmatrix}\n",
    "a & b \\\\\n",
    "c & d \\\\\n",
    "\\end{bmatrix} \\quad\n",
    "A^{-1} = \n",
    "\\frac{1}{ad - bc}\n",
    "\\begin{bmatrix}\n",
    "d & -b \\\\\n",
    "-c & a \\\\\n",
    "\\end{bmatrix} \\quad\n",
    "$$\n",
    "\n",
    "Note\n",
    "- If the $\\text{det}(A) = 0$, then the matrix must be singular and inverse does not exist."
   ]
  },
  {
   "cell_type": "markdown",
   "id": "b8a7b4f6",
   "metadata": {},
   "source": [
    "## 12.4 MCA Algorithm\n",
    "MCA algorithm standards for matrix, cofactors, and adjoint and is also known as _Cramer's Rule_."
   ]
  },
  {
   "cell_type": "markdown",
   "id": "06d36929",
   "metadata": {},
   "source": [
    "## 12.5 Inverse via row reduction\n",
    "\n",
    "### RREF Inverse\n",
    "Inverse of a matrix $A$ can be obtained via RREF in a manner analogous to Gauss-Jordan elimination.\n",
    "\n",
    "1. Augment $A$ with $I$ to produce the matrix $[ A | I ]$\n",
    "2. Use elementary row operations to transform augmented matrix $\\text{RREF}([ A | I ]) = [ I | A^{-1} ]$\n"
   ]
  },
  {
   "cell_type": "markdown",
   "id": "5f6c307f",
   "metadata": {},
   "source": [
    "## 12.6 Left inverse"
   ]
  },
  {
   "cell_type": "markdown",
   "id": "e93820bc",
   "metadata": {},
   "source": [
    "## 12.7 Right inverse"
   ]
  },
  {
   "cell_type": "markdown",
   "id": "0e61c090",
   "metadata": {},
   "source": [
    "## 12.8 Pseudoinverse, part 1\n",
    "\n",
    "Notes\n",
    "- Pseudoinverse exists even when the matrix is singular.\n",
    "- If a matrix is nonsingular, then the pseudoinverse is the same as the inverse."
   ]
  },
  {
   "cell_type": "code",
   "execution_count": null,
   "id": "f2a9d5fc",
   "metadata": {},
   "outputs": [],
   "source": []
  }
 ],
 "metadata": {
  "kernelspec": {
   "display_name": "Python 3 (ipykernel)",
   "language": "python",
   "name": "python3"
  },
  "language_info": {
   "codemirror_mode": {
    "name": "ipython",
    "version": 3
   },
   "file_extension": ".py",
   "mimetype": "text/x-python",
   "name": "python",
   "nbconvert_exporter": "python",
   "pygments_lexer": "ipython3",
   "version": "3.8.10"
  }
 },
 "nbformat": 4,
 "nbformat_minor": 5
}
