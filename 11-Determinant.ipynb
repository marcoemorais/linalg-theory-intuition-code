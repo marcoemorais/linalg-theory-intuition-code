{
 "cells": [
  {
   "cell_type": "markdown",
   "id": "9805f4cb",
   "metadata": {},
   "source": [
    "# 11 - Determinant\n",
    "- 11.1 Features of determinants\n",
    "- 11.2 Determinant of a $2 \\times 2$ matrix\n",
    "- 11.3 The characteristic polynomial\n",
    "- 11.4 $3 \\times 3$ matrix determinant\n",
    "- 11.5 The full procedure\n",
    "- 11.6 $\\Delta$ of triangles\n",
    "- 11.7 Determinant and row reduction\n",
    "- 11.8 $\\Delta$ and scalar multiplication\n",
    "- 11.9 Theory vs. practice\n",
    "- 11.10 Exercises\n",
    "- 11.11 Answers\n",
    "- 11.12 Code challenges\n",
    "- 11.13 Code solutions"
   ]
  },
  {
   "cell_type": "code",
   "execution_count": 1,
   "id": "95b8e6cc",
   "metadata": {},
   "outputs": [],
   "source": [
    "import numpy as np\n",
    "import matplotlib.pyplot as plt\n",
    "\n",
    "%matplotlib inline"
   ]
  },
  {
   "cell_type": "markdown",
   "id": "136f7379",
   "metadata": {},
   "source": [
    "## 11.1 Features of determinants\n",
    "- Determinant is defined only for square matrices\n",
    "- Determinant is unique to the matrix\n",
    "- Determinant of singular matrix is 0\n",
    "- Determinant notation varies can be $\\text{det}(A)$ or $\\Delta$\n",
    "- Determinant is unaffected by transpose eg $\\text{det}(A) = \\text{det}(A^T)$"
   ]
  },
  {
   "cell_type": "markdown",
   "id": "2841f58f",
   "metadata": {},
   "source": [
    "## 11.2 Determinant of a $2 \\times 2$ matrix\n",
    "Formula for finding the determinant of a $2 \\times 2$ matrix.\n",
    "- Does not extend to higher dimensions.\n",
    "\n",
    "$$\n",
    "\\text{det}\\left(\n",
    "\\begin{bmatrix}\n",
    "a & b \\\\\n",
    "c & d \\\\\n",
    "\\end{bmatrix}\\right) =\n",
    "ad - bc\n",
    "$$\n",
    "\n",
    "### Example: Linearly Dependent Columns\n",
    "Rank deficient matrices eg matrices with columns that are linearly dependent have a determinant of 0.\n",
    "\n",
    "$$\n",
    "\\text{det}\\left(\n",
    "\\begin{bmatrix}\n",
    "a & \\lambda a \\\\\n",
    "c & \\lambda c \\\\\n",
    "\\end{bmatrix}\\right) =\n",
    "a \\lambda c - \\lambda a c = 0\n",
    "$$\n"
   ]
  },
  {
   "cell_type": "markdown",
   "id": "5b1b3476",
   "metadata": {},
   "source": [
    "## 11.3 The characteristic polynomial\n",
    "The roots of the characteristic polynomial correspond to the eigenvalues of the matrix.\n",
    "\n",
    "$$\n",
    "\\text{det}(A - \\lambda I) = 0\n",
    "$$\n",
    "\n",
    "Example\n",
    "$$\n",
    "\\begin{align}\n",
    "\\text{det}\\left(\n",
    "\\begin{bmatrix}\n",
    "1 & 3 \\\\\n",
    "3 & 1 \\\\\n",
    "\\end{bmatrix} - \\lambda I\\right) &= 0 \\\\\n",
    "\\text{det}\\left(\n",
    "\\begin{bmatrix}\n",
    "1 - \\lambda & 3 \\\\\n",
    "3 & 1 - \\lambda \\\\\n",
    "\\end{bmatrix} \\right) &= 0 \\\\\n",
    "(1 - \\lambda)^2 - 9 &= 0 \\\\\n",
    "\\lambda^2 - 2 \\lambda - 8 &= 0 \\\\\n",
    "(\\lambda - 4) (\\lambda + 2) &= 0 \\\\\n",
    "\\lambda = +4, -2\n",
    "\\end{align}\n",
    "$$"
   ]
  },
  {
   "cell_type": "markdown",
   "id": "a4fedb5c",
   "metadata": {},
   "source": [
    "## 11.4 $3 \\times 3$ matrix determinant\n",
    "Formula for finding the determinant of a $3 \\times 3$ matrix.\n",
    "- Does not extend to higher dimensions.\n",
    "\n",
    "$$\n",
    "\\text{det}\\left(\n",
    "\\begin{bmatrix}\n",
    "a & b & c \\\\\n",
    "d & e & f \\\\\n",
    "g & h & i \\\\\n",
    "\\end{bmatrix}\\right) =\n",
    "aei + bfg + cdh - ceg - bdi - afh\n",
    "$$\n",
    "\n",
    "### Rule of Sarrus\n",
    "Rule of Sarrus is a mnemonic for computing the determinant of a $3 \\times 3$ matrix by augmenting the matrix with the first and second columns of the original matrix and computing the determinant using the sum of the product of the diagonals minus the product of the off-diagonals.\n",
    "\n",
    "<img src=\"images/200px-Schema_sarrus-regel.png\">\n"
   ]
  },
  {
   "cell_type": "markdown",
   "id": "ab60507e",
   "metadata": {},
   "source": [
    "Practice problem, checking (d)."
   ]
  },
  {
   "cell_type": "code",
   "execution_count": 2,
   "id": "5ef6cec8",
   "metadata": {},
   "outputs": [
    {
     "name": "stdout",
     "output_type": "stream",
     "text": [
      "0.0\n"
     ]
    }
   ],
   "source": [
    "A = np.array([[1,-2,3],[-4,5,-6],[7,-8,9]])\n",
    "\n",
    "print(np.linalg.det(A))"
   ]
  },
  {
   "cell_type": "markdown",
   "id": "d9507f33",
   "metadata": {},
   "source": [
    "## 11.5 The full procedure\n",
    "_Not going to describe this, but finding the minors and cofactors of a matrix is useful for computing inverse._"
   ]
  },
  {
   "cell_type": "markdown",
   "id": "50896da5",
   "metadata": {},
   "source": [
    "## 11.6 $\\Delta$ of triangles\n",
    "Determinant of a triangular matrix is equal to the product of the diagonal elements.\n",
    "\n",
    "$$\n",
    "\\text{det}(L) = \\prod_{i=1}^n L_{i,i} \\quad \\text{det}(U) = \\prod_{i=1}^n U_{i,i}\n",
    "$$"
   ]
  },
  {
   "cell_type": "markdown",
   "id": "b6cadfc5",
   "metadata": {},
   "source": [
    "## 11.7 Determinant and row reduction\n",
    "Elementary row operations (ERO) have the following impact on the determinant.\n",
    "\n",
    "1. Swap rows\n",
    "    - Flip sign of the determinant\n",
    "    - $\\text{det}(A) = -\\text{det}(A)$\n",
    "2. Scale a row by a nonzero constant\n",
    "    - Scales the determinant by the constant\n",
    "    - $\\text{det}(A) = \\alpha \\; \\text{det}(A)$\n",
    "3. Add to a row a scalar multiple of another row\n",
    "    - Has no effect on the determinant\n",
    "    - $\\text{det}(A) = \\text{det}(A)$"
   ]
  },
  {
   "cell_type": "code",
   "execution_count": 3,
   "id": "7d089502",
   "metadata": {},
   "outputs": [],
   "source": [
    "def swap_rows(A, i1, i2):\n",
    "    \"\"\"\n",
    "    swap_rows swaps row i1 and i2 from A\n",
    "\n",
    "    :param A: numpy.ndarray  Matrix A\n",
    "    :return: numpy.ndarray   Matrix A\n",
    "    \"\"\"\n",
    "    A[[i1,i2]] = A[[i2,i1]]  # Numpy row swap notation.\n",
    "    return A\n",
    "\n",
    "\n",
    "# Verify that swapping rows flips the sign of the determinant.\n",
    "I = np.eye(3)\n",
    "detI = np.linalg.det(I)\n",
    "swap_rows(I, 1, 0)\n",
    "detIswap = np.linalg.det(I)\n",
    "np.testing.assert_equal(detI, -detIswap)\n",
    "\n",
    "# Verify that scaling a row by a nonzero constant scales the determinant.\n",
    "I = np.eye(3)\n",
    "detI = np.linalg.det(I)\n",
    "k = 2.5\n",
    "I[1,:] = k*I[1,:]\n",
    "detkI = np.linalg.det(I)\n",
    "np.testing.assert_equal(k*detI, detkI)\n",
    "\n",
    "# Verify that adding a scalar multiple of another row to a row has no effect on determinant.\n",
    "I = np.eye(3)\n",
    "detI = np.linalg.det(I)\n",
    "k = 2.5\n",
    "I[1,:] += k*I[0,:]\n",
    "detkplus0I = np.linalg.det(I)\n",
    "np.testing.assert_equal(detI, detkplus0I)"
   ]
  },
  {
   "cell_type": "markdown",
   "id": "d25cadbc",
   "metadata": {},
   "source": [
    "## 11.8 $\\Delta$ and scalar multiplication\n",
    "Multiplying a matrix by a scalar, scales the determinant by the dimension of the matrix\n",
    "- Determinant is defined only for square matrices, so dimension is equal to the number of rows or columns\n",
    "\n",
    "$$\n",
    "\\text{det}(\\alpha A) = \\alpha^{n} \\; \\text{det}(A)\n",
    "$$\n",
    "\n",
    "Notes\n",
    "- Proof based on extending the behavior for scaling a row for all rows in the matrix"
   ]
  },
  {
   "cell_type": "code",
   "execution_count": 4,
   "id": "9c6ccd16",
   "metadata": {},
   "outputs": [],
   "source": [
    "# Verify that scaling the matrix by a nonzero constant scales the determinant by constant raised to power.\n",
    "I = np.eye(3)\n",
    "detI = np.linalg.det(I)\n",
    "k = 2.5\n",
    "detkI = np.linalg.det(k*I)\n",
    "np.testing.assert_almost_equal(detkI, k**3)"
   ]
  },
  {
   "cell_type": "markdown",
   "id": "55b76428",
   "metadata": {},
   "source": [
    "## 11.9 Theory vs. practice\n",
    "\n",
    "### Why is the determinant important?\n",
    "1. Eigenvalues\n",
    "- Roots of the characteristic polynomial correspond to the eigenvalues of the matrix.\n",
    "2. Inverse\n",
    "- The cofactors and minors of a matrix (derived from determinant) can be used to find the inverse of the matrix.\n",
    "\n",
    "### Practice\n",
    "Although the determinant is a useful mathematical construct, the cost of computing the determinant means that it is not a useful computational technique."
   ]
  },
  {
   "cell_type": "markdown",
   "id": "eda0f518",
   "metadata": {},
   "source": [
    "## 11.12 Code challenges"
   ]
  },
  {
   "cell_type": "markdown",
   "id": "1836eebc",
   "metadata": {},
   "source": [
    "> 1. Write code that illustrates $\\text{det}(\\alpha A) = \\alpha^{n} \\; \\text{det}(A)$. Generate a $4 \\times 4$ matrix of integers between 0 and 10, then generate a random integer $\\beta$ between -10 and -1, and then compare the left and right hand side of the equation."
   ]
  },
  {
   "cell_type": "code",
   "execution_count": 5,
   "id": "f57acf03",
   "metadata": {},
   "outputs": [],
   "source": [
    "n = 4\n",
    "A = np.random.randint(0, 10+1, size=n*n).reshape(n, n)\n",
    "beta = np.random.randint(-10, -1+1)\n",
    "\n",
    "detlhs = np.linalg.det(beta * A)\n",
    "detrhs = beta**n * np.linalg.det(A)\n",
    "\n",
    "np.testing.assert_almost_equal(detlhs, detrhs)"
   ]
  },
  {
   "cell_type": "markdown",
   "id": "935d8552",
   "metadata": {},
   "source": [
    "> 2. Demonstrate the numerical instability of the determinant by computing the determinant for matrices of increasingly larger sizes.  Find the determinant of rank deficient matrices of increasing size from $3 \\times 3$ to $30 \\times 30$.  Repeat the experiement 100 times for each size of matrix and compute the mean of the absolute value of the determinant.  Plot the results.\n",
    "\n",
    "Answer: The determinant of a rank deficient matrix is always 0. Observe that in the plot below the determinant exponentially increases from 0 as the size of the matrix increases. This demonstrates the instability of the determinant for large size matrices."
   ]
  },
  {
   "cell_type": "code",
   "execution_count": 6,
   "id": "1aa32f53",
   "metadata": {},
   "outputs": [
    {
     "data": {
      "image/png": "[encoded data removed]",
      "text/plain": [
       "<Figure size 432x288 with 1 Axes>"
      ]
     },
     "metadata": {
      "needs_background": "light"
     },
     "output_type": "display_data"
    }
   ],
   "source": [
    "def rank(n, r):\n",
    "    \"\"\"\n",
    "    rank returns a square matrix of normally distributed random values and rank r \n",
    "\n",
    "    :param n: int            Size of a single dimension of the returned matrix.\n",
    "    :param r: int            Rank.\n",
    "    :return: numpy.ndarray   Matrix with dimensions n \\times n and rank r.\n",
    "    \"\"\"\n",
    "    A = np.random.normal(size=n*r).reshape(n, r)\n",
    "    B = np.random.normal(size=r*n).reshape(r, n)\n",
    "    return A @ B\n",
    "\n",
    "\n",
    "sizes = np.arange(3, 30+1,1)\n",
    "ranks = sizes - 1\n",
    "mu = np.zeros(sizes.size)\n",
    "nrepeat = 100\n",
    "for i, (size, r) in enumerate(zip(sizes, ranks)):\n",
    "    dets = np.zeros(nrepeat)\n",
    "    for j in range(nrepeat):\n",
    "        A = rank(size, r)\n",
    "        dets[j] = np.abs(np.linalg.det(A))  # Absolute value of determinant.\n",
    "    mu[i] = np.mean(dets)\n",
    "\n",
    "plt.plot(sizes, mu)\n",
    "plt.title('Mean Absolute Value of det(A) vs. Matrix Size')\n",
    "plt.ylabel('Mean Absolute Value of det(A)')\n",
    "plt.xlabel('Matrix Size (n)')\n",
    "plt.show()"
   ]
  },
  {
   "cell_type": "code",
   "execution_count": null,
   "id": "e603e0a5",
   "metadata": {},
   "outputs": [],
   "source": []
  }
 ],
 "metadata": {
  "kernelspec": {
   "display_name": "Python 3 (ipykernel)",
   "language": "python",
   "name": "python3"
  },
  "language_info": {
   "codemirror_mode": {
    "name": "ipython",
    "version": 3
   },
   "file_extension": ".py",
   "mimetype": "text/x-python",
   "name": "python",
   "nbconvert_exporter": "python",
   "pygments_lexer": "ipython3",
   "version": "3.8.10"
  }
 },
 "nbformat": 4,
 "nbformat_minor": 5
}
