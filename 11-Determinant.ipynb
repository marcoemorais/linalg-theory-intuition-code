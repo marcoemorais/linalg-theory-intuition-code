{
 "cells": [
  {
   "cell_type": "markdown",
   "id": "9805f4cb",
   "metadata": {},
   "source": [
    "# 11 - Determinant\n",
    "- 11.1 Features of determinants\n",
    "- 11.2 Determinant of a $2 \\times 2$ matrix\n",
    "- 11.3 The characteristic polynomial\n",
    "- 11.4 $3 \\times 3$ matrix determinant\n",
    "- 11.5 The full procedure\n",
    "- 11.6 $\\Delta$ of triangles\n",
    "- 11.7 Determinant and row reduction\n",
    "- 11.8 $\\Delta$ and scalar multiplication\n",
    "- 11.9 Theory vs. practice\n",
    "- 11.10 Exercises\n",
    "- 11.11 Answers\n",
    "- 11.12 Code challenges\n",
    "- 11.13 Code solutions"
   ]
  },
  {
   "cell_type": "code",
   "execution_count": 1,
   "id": "95b8e6cc",
   "metadata": {},
   "outputs": [],
   "source": [
    "import numpy as np"
   ]
  },
  {
   "cell_type": "markdown",
   "id": "136f7379",
   "metadata": {},
   "source": [
    "## 11.1 Features of determinants\n",
    "- Determinant is defined only for square matrices\n",
    "- Determinant is unique to the matrix\n",
    "- Determinant of singular matrix is 0\n",
    "- Determinant notation varies can be $\\text{det}(A)$ or $\\Delta$\n",
    "- Determinant is unaffected by transpose eg $\\text{det}(A) = \\text{det}(A^T)$"
   ]
  },
  {
   "cell_type": "markdown",
   "id": "2841f58f",
   "metadata": {},
   "source": [
    "## 11.2 Determinant of a $2 \\times 2$ matrix\n",
    "Formula for finding the determinant of a $2 \\times 2$ matrix.\n",
    "- Does not extend to higher dimensions.\n",
    "\n",
    "$$\n",
    "\\text{det}\\left(\n",
    "\\begin{bmatrix}\n",
    "a & b \\\\\n",
    "c & d \\\\\n",
    "\\end{bmatrix}\\right) =\n",
    "ad - bc\n",
    "$$\n",
    "\n",
    "### Example: Linearly Dependent Columns\n",
    "Rank deficient matrices eg matrices with columns that are linearly dependent have a determinant of 0.\n",
    "\n",
    "$$\n",
    "\\text{det}\\left(\n",
    "\\begin{bmatrix}\n",
    "a & \\lambda a \\\\\n",
    "c & \\lambda c \\\\\n",
    "\\end{bmatrix}\\right) =\n",
    "a \\lambda c - \\lambda a c = 0\n",
    "$$\n"
   ]
  },
  {
   "cell_type": "markdown",
   "id": "5b1b3476",
   "metadata": {},
   "source": [
    "## 11.3 The characteristic polynomial\n",
    "The roots of the characteristic polynomial correspond to the eigenvalues of the matrix.\n",
    "\n",
    "$$\n",
    "\\text{det}(A - \\lambda I) = 0\n",
    "$$\n",
    "\n",
    "Example\n",
    "$$\n",
    "\\begin{align}\n",
    "\\text{det}\\left(\n",
    "\\begin{bmatrix}\n",
    "1 & 3 \\\\\n",
    "3 & 1 \\\\\n",
    "\\end{bmatrix} - \\lambda I\\right) &= 0 \\\\\n",
    "\\text{det}\\left(\n",
    "\\begin{bmatrix}\n",
    "1 - \\lambda & 3 \\\\\n",
    "3 & 1 - \\lambda \\\\\n",
    "\\end{bmatrix} \\right) &= 0 \\\\\n",
    "(1 - \\lambda)^2 - 9 &= 0 \\\\\n",
    "\\lambda^2 - 2 \\lambda - 8 &= 0 \\\\\n",
    "(\\lambda - 4) (\\lambda + 2) &= 0 \\\\\n",
    "\\lambda = +4, -2\n",
    "\\end{align}\n",
    "$$"
   ]
  },
  {
   "cell_type": "markdown",
   "id": "a4fedb5c",
   "metadata": {},
   "source": [
    "## 11.4 $3 \\times 3$ matrix determinant\n",
    "Formula for finding the determinant of a $3 \\times 3$ matrix.\n",
    "- Does not extend to higher dimensions.\n",
    "\n",
    "$$\n",
    "\\text{det}\\left(\n",
    "\\begin{bmatrix}\n",
    "a & b & c \\\\\n",
    "d & e & f \\\\\n",
    "g & h & i \\\\\n",
    "\\end{bmatrix}\\right) =\n",
    "aei + bfg + cdh - ceg - bdi - afh\n",
    "$$\n",
    "\n",
    "### Rule of Sarrus\n",
    "Rule of Sarrus is a mnemonic for computing the determinant of a $3 \\times 3$ matrix by augmenting the matrix with the first and second columns of the original matrix and computing the determinant using the sum of the product of the diagonals minus the product of the off-diagonals.\n",
    "\n",
    "<img src=\"images/200px-Schema_sarrus-regel.png\">\n"
   ]
  },
  {
   "cell_type": "markdown",
   "id": "ab60507e",
   "metadata": {},
   "source": [
    "Practice problem, checking (d)."
   ]
  },
  {
   "cell_type": "code",
   "execution_count": 2,
   "id": "5ef6cec8",
   "metadata": {},
   "outputs": [
    {
     "name": "stdout",
     "output_type": "stream",
     "text": [
      "0.0\n"
     ]
    }
   ],
   "source": [
    "A = np.array([[1,-2,3],[-4,5,-6],[7,-8,9]])\n",
    "\n",
    "print(np.linalg.det(A))"
   ]
  },
  {
   "cell_type": "markdown",
   "id": "d9507f33",
   "metadata": {},
   "source": [
    "## 11.5 The full procedure\n",
    "_Not going to describe this, but finding the minors and cofactors of a matrix is useful for computing inverse._"
   ]
  },
  {
   "cell_type": "markdown",
   "id": "50896da5",
   "metadata": {},
   "source": [
    "## 11.6 $\\Delta$ of triangles\n",
    "Determinant of a triangular matrix is equal to the product of the diagonal elements.\n",
    "\n",
    "$$\n",
    "\\text{det}(L) = \\prod_{i=1}^n L_{i,i} \\quad \\text{det}(U) = \\prod_{i=1}^n U_{i,i}\n",
    "$$"
   ]
  },
  {
   "cell_type": "markdown",
   "id": "b6cadfc5",
   "metadata": {},
   "source": [
    "## 11.7 Determinant and row reduction\n",
    "Elementary row operations (ERO) have the following impact on the determinant.\n",
    "\n",
    "1. Swap rows\n",
    "    - Flip sign of the determinant\n",
    "    - $\\text{det}(A) = -\\text{det}(A)$\n",
    "2. Scale a row by a nonzero constant\n",
    "    - Scales the determinant by the constant\n",
    "    - $\\text{det}(A) = \\alpha \\; \\text{det}(A)$\n",
    "3. Add to a row a scalar multiple of another row\n",
    "    - Has no effect on the determinant\n",
    "    - $\\text{det}(A) = \\text{det}(A)$"
   ]
  },
  {
   "cell_type": "markdown",
   "id": "d25cadbc",
   "metadata": {},
   "source": [
    "## 11.8 $\\Delta$ and scalar multiplication\n",
    "Multiplying a matrix by a scalar, scales the determinant by the dimension of the matrix\n",
    "- Determinant is defined only for square matrices, so dimension is equal to the number of rows or columns\n",
    "\n",
    "$$\n",
    "\\alpha \\; \\text{det}(A) = \\alpha^{n} \\; \\text{det}(A)\n",
    "$$\n",
    "\n",
    "Notes\n",
    "- Proof based on extending the behavior for scaling a row for all rows in the matrix"
   ]
  },
  {
   "cell_type": "markdown",
   "id": "55b76428",
   "metadata": {},
   "source": [
    "## 11.9 Theory vs. practice\n",
    "\n",
    "### Why is the determinant important?\n",
    "1. Eigenvalues\n",
    "- Roots of the characteristic polynomial correspond to the eigenvalues of the matrix.\n",
    "2. Inverse\n",
    "- The cofactors and minors of a matrix (derived from determinant) can be used to find the inverse of the matrix.\n",
    "\n",
    "### Practice\n",
    "Although the determinant is a useful mathematical construct, the cost of computing the determinant means that it is not a useful computational technique."
   ]
  },
  {
   "cell_type": "markdown",
   "id": "eda0f518",
   "metadata": {},
   "source": [
    "## 11.12 Code challenges"
   ]
  },
  {
   "cell_type": "code",
   "execution_count": null,
   "id": "dfd7909d",
   "metadata": {},
   "outputs": [],
   "source": []
  }
 ],
 "metadata": {
  "kernelspec": {
   "display_name": "Python 3 (ipykernel)",
   "language": "python",
   "name": "python3"
  },
  "language_info": {
   "codemirror_mode": {
    "name": "ipython",
    "version": 3
   },
   "file_extension": ".py",
   "mimetype": "text/x-python",
   "name": "python",
   "nbconvert_exporter": "python",
   "pygments_lexer": "ipython3",
   "version": "3.8.10"
  }
 },
 "nbformat": 4,
 "nbformat_minor": 5
}
