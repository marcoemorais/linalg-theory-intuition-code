{
 "cells": [
  {
   "cell_type": "markdown",
   "id": "ae4c42c9",
   "metadata": {},
   "source": [
    "# 14 - Least Squares\n",
    "- 14.1 Introduction\n",
    "- 14.2 5 Steps of Model-Fitting\n",
    "- 14.3 Terminology\n",
    "- 14.4 Least-squares via left inverse\n",
    "- 14.5 Least-squares via projection\n",
    "- 14.6 Least-squares via row-reduction\n",
    "- 14.7 Predictions and residuals\n",
    "- 14.8 Least-squares example\n",
    "- 14.9 Coding challenges\n",
    "- 14.10 Code solutions\n",
    "\n",
    "Notes, code snippets, and the end of chapter exercises from the book _Linear Algebra: Theory, Intuition, Code_ by Mike X Cohen. \n",
    "\n",
    "Find more information about the book on [github](https://github.com/mikexcohen/LinAlgBook) and [amazon](https://www.amazon.com/Linear-Algebra-Theory-Intuition-Code/dp/9083136604)."
   ]
  },
  {
   "cell_type": "code",
   "execution_count": 1,
   "id": "229ef849",
   "metadata": {},
   "outputs": [],
   "source": [
    "import numpy as np\n",
    "import matplotlib.pyplot as plt\n",
    "\n",
    "%matplotlib inline"
   ]
  },
  {
   "cell_type": "markdown",
   "id": "b2ae6837",
   "metadata": {},
   "source": [
    "## 14.1 Introduction\n",
    "Linear least squares is the most commonly used method to fit data to a model (see _Terminology_).\n",
    "\n",
    "### Terminology\n",
    "- Model: Simplified low-dimensional representation of the system that helps with understanding or simulation.\n",
    "- Fixed features: Components of the model imposed by the modeler. Example: Choice of attributes used in the model.\n",
    "- Free parameters: Components of the model which are adjusted to allow the model to fit any dataset."
   ]
  },
  {
   "cell_type": "markdown",
   "id": "e7b7b23d",
   "metadata": {},
   "source": [
    "## 14.2 5 Steps of Model-Fitting\n",
    "Solving a linear least squares problem is equivalent to solving the overdetermined linear system of equations $Ax = b$ with some terminology differences.\n",
    "\n",
    "Replace $A x = b$ with $X \\beta = y$.\n",
    "- $X$ is a tall matrix of coefficients holding the values of each feature.\n",
    "- $\\beta$ are the parameters of the model.\n",
    "- $y$ is a column vector of data which are fit by the model.\n",
    "\n",
    "Fitting the model refers to solving $X \\beta = y$ for $\\beta$.\n",
    "\n",
    "Evaluating the model uses inferential statistics to determine whether the model is a good fit for the data.\n",
    "- Use p-values (_random distribution_) and t-values (_normal distribution_) to test hypothesis about the distribution of data."
   ]
  },
  {
   "cell_type": "markdown",
   "id": "854c8e6b",
   "metadata": {},
   "source": [
    "## 14.3 Terminology\n",
    "_Linear_ in linear least squares refers to the way in which the variables $X$ are scalar-multiplied by the parameters $\\beta$.\n",
    "\n",
    "### Linear Least Squares vs. Linear Regression\n",
    "Linear regression assumes a linear relationship between the independent and dependent variables, but doesn't prescribe how model is fit.\n",
    "- Linear least squares is one choice of estimation method for fitting a linear regression model."
   ]
  },
  {
   "cell_type": "markdown",
   "id": "d913beb3",
   "metadata": {},
   "source": [
    "## 14.4 Least-squares via left inverse\n",
    "Solution to $X \\beta = y$ exists only when $y$ is in the column space of $y \\in C(X)$.\n",
    "\n",
    "Due to noise in the measurements $y \\notin C(X)$ is the most common case, so we explicitly add a noise term $\\epsilon$ to the model so that $y + \\epsilon \\in C(X)$.\n",
    "\n",
    "$$\n",
    "y = X \\beta + \\epsilon\n",
    "$$\n",
    "\n",
    "Notes\n",
    "- The residual $\\epsilon = y - X \\beta$ is in the left nullspace $\\epsilon \\in N(X^T)$ and orthogonal to the column space $\\epsilon \\perp C(X)$."
   ]
  },
  {
   "cell_type": "markdown",
   "id": "49ddbcc9",
   "metadata": {},
   "source": [
    "## 14.5 Least-squares via projection\n",
    "The normal equation represents the orthogonal projection of the column space of the features $X$ with the residual $\\epsilon = y - X \\beta$.\n",
    "\n",
    "$$\n",
    "\\begin{align}\n",
    "X^T \\epsilon &= 0 \\\\\n",
    "X^T (y - X \\beta) &= 0 \\\\\n",
    "X^T y &= X^T X \\beta \\\\\n",
    "\\end{align}\n",
    "$$\n",
    "\n",
    "From this we can derive the solution to the linear least squares equation $y = X \\beta$ for $\\beta$ as the left inverse.\n",
    "\n",
    "$$\n",
    "\\beta = (X^T X)^{-1} X^T y\n",
    "$$\n",
    "\n",
    "Notes\n",
    "- The product $X^T \\epsilon = 0$ as an orthogonal projection should be familiar from section 13.2 Projections in $\\mathbb{R}^N$."
   ]
  },
  {
   "cell_type": "markdown",
   "id": "3864d66d",
   "metadata": {},
   "source": [
    "## 14.6 Least-squares via row-reduction\n",
    "\n",
    "### Solution To Normal Equation via RREF\n",
    "Solution $\\beta$ can be obtained from the normal equation $X^T X \\beta = X^T y$ using RREF.\n",
    "\n",
    "1. Augment $X$ and $y$ to the normal equation $[X^T X| X^T y]$.\n",
    "2. Use elementary row operations to transform $\\text{RREF}([X^T X| X^T y]) = [I | \\beta]$.\n",
    "\n",
    "Notes\n",
    "- Even though $X$ is tall matrix, the product $X^T X$ will be a square matrix that spans all of $\\mathbb{R}^N$ and the product $X^T y \\in \\mathbb{R}^N$."
   ]
  },
  {
   "cell_type": "markdown",
   "id": "a60e0afe",
   "metadata": {},
   "source": [
    "## 14.7 Predictions and residuals\n",
    "Use calculus to derive the left inverse, by reframing the model fitting as finding the parameters $\\beta$ that minimize the sum of squared residuals.\n",
    "\n",
    "$$\n",
    "\\text{min}_\\beta || y - X \\beta ||^2\n",
    "$$\n",
    "\n",
    "Use calculus to find the minimum by setting the derivative to 0 and solving for $\\beta$.\n",
    "\n",
    "$$\n",
    "\\begin{align}\n",
    "\\frac{d}{d\\beta} || y - X \\beta ||^2 &= 0 \\\\\n",
    "2 X^T (y - X \\beta) &= 0 \\\\\n",
    "X^T y - X^T X \\beta &= 0 \\\\\n",
    "X^T y &= X^T X \\beta \\\\\n",
    "\\beta &= (X^T X)^{-1} X^T y \\\\\n",
    "\\end{align}\n",
    "$$"
   ]
  },
  {
   "cell_type": "markdown",
   "id": "88bc7aea",
   "metadata": {},
   "source": [
    "## 14.8 Least-squares example"
   ]
  },
  {
   "cell_type": "markdown",
   "id": "eab70504",
   "metadata": {},
   "source": [
    "Examples below demonstrate least squares fit using different independent variables."
   ]
  },
  {
   "cell_type": "markdown",
   "id": "530e7ba1",
   "metadata": {},
   "source": [
    "### Example 1: Fit an array of constant values to response y.\n",
    "- Model that predicts the mean value of y for any value of x."
   ]
  },
  {
   "cell_type": "code",
   "execution_count": 2,
   "id": "ca1210c7",
   "metadata": {},
   "outputs": [
    {
     "data": {
      "image/png": "[encoded data removed]",
      "text/plain": [
       "<Figure size 432x288 with 1 Axes>"
      ]
     },
     "metadata": {
      "needs_background": "light"
     },
     "output_type": "display_data"
    }
   ],
   "source": [
    "# Fit an array of constant values to response y.\n",
    "# Results in model that predicts np.mean(y) for any value of x.\n",
    "y = np.array([-4,0,-3,1,2,8,5,8], dtype=float)\n",
    "X = np.ones(y.size).reshape(-1,1)\n",
    "\n",
    "beta, _, _, _ = np.linalg.lstsq(X, y, rcond=None)\n",
    "\n",
    "fitx = np.array([1,2,3,4,5,6,7,8], dtype=float).reshape(-1,1)\n",
    "fity = np.repeat(beta, fitx.size)\n",
    "\n",
    "# Plot the fitted model against observations.\n",
    "plt.scatter(fitx, y, s=16, c='dodgerblue', label='observations')\n",
    "plt.plot(fitx, fity, c='red', label='fit')\n",
    "plt.title(f'Observations vs. Fit\\n$\\\\beta$ = {np.array2string(beta)}')\n",
    "plt.ylabel('y')\n",
    "plt.xlabel('x')\n",
    "plt.legend(loc=0)  # Upper left corner.\n",
    "plt.show()\n",
    "\n",
    "np.testing.assert_equal(beta, np.mean(y))"
   ]
  },
  {
   "cell_type": "markdown",
   "id": "b44ce846",
   "metadata": {},
   "source": [
    "### Example 2: Fit an array of monotonic indices to response y.\n",
    "- Model with constant slope and 0 intercept."
   ]
  },
  {
   "cell_type": "code",
   "execution_count": 3,
   "id": "16b446ab",
   "metadata": {},
   "outputs": [
    {
     "data": {
      "image/png": "[encoded data removed]",
      "text/plain": [
       "<Figure size 432x288 with 1 Axes>"
      ]
     },
     "metadata": {
      "needs_background": "light"
     },
     "output_type": "display_data"
    }
   ],
   "source": [
    "# Fit an array of monotonic indices to response y.\n",
    "# Results in model with constant slope and 0 intercept.\n",
    "y = np.array([-4,0,-3,1,2,8,5,8], dtype=float)\n",
    "X = np.array([1,2,3,4,5,6,7,8], dtype=float).reshape(-1,1)\n",
    "\n",
    "beta, _, _, _ = np.linalg.lstsq(X, y, rcond=None)\n",
    "\n",
    "fity = X @ beta\n",
    "\n",
    "# Plot the fitted model against observations.\n",
    "plt.scatter(X, y, s=16, c='dodgerblue', label='observations')\n",
    "plt.plot(X, fity, c='red', label='fit')\n",
    "plt.title(f'Observations vs. Fit\\n$\\\\beta$ = {np.array2string(beta)}')\n",
    "plt.ylabel('y')\n",
    "plt.xlabel('x')\n",
    "plt.legend(loc=0)  # Upper left corner.\n",
    "plt.show()"
   ]
  },
  {
   "cell_type": "markdown",
   "id": "ad1ccbac",
   "metadata": {},
   "source": [
    "### Example 3: Fit matrix with [1|indices] to response y.\n",
    "- Model with constant slope and non-zero intercept."
   ]
  },
  {
   "cell_type": "code",
   "execution_count": 4,
   "id": "14754754",
   "metadata": {},
   "outputs": [
    {
     "data": {
      "image/png": "[encoded data removed]",
      "text/plain": [
       "<Figure size 432x288 with 1 Axes>"
      ]
     },
     "metadata": {
      "needs_background": "light"
     },
     "output_type": "display_data"
    }
   ],
   "source": [
    "# Fit matrix with [1|indices] to response y.\n",
    "# Results in model with constant slope and non-zero intercept.\n",
    "y = np.array([-4,0,-3,1,2,8,5,8], dtype=float)\n",
    "X = np.stack((np.ones(y.size), np.array([1,2,3,4,5,6,7,8], dtype=float)), axis=1)\n",
    "\n",
    "beta, _, _, _ = np.linalg.lstsq(X, y, rcond=None)\n",
    "\n",
    "fity = X @ beta\n",
    "\n",
    "# Plot the fitted model against observations.\n",
    "plt.scatter(X[:,1], y, s=16, c='dodgerblue', label='observations')\n",
    "plt.plot(X[:,1], fity, c='red', label='fit')\n",
    "plt.title(f'Observations vs. Fit\\n$\\\\beta$ = {np.array2string(beta)}')\n",
    "plt.ylabel('y')\n",
    "plt.xlabel('x')\n",
    "plt.legend(loc=0)  # Upper left corner.\n",
    "plt.show()\n",
    "\n",
    "# Verify that residual is perpindicular to X \\beta.\n",
    "epsilon = y - fity\n",
    "np.testing.assert_almost_equal(np.dot(epsilon, X @ beta), 0)"
   ]
  },
  {
   "cell_type": "markdown",
   "id": "b409edd2",
   "metadata": {},
   "source": [
    "## 14.9 Coding challenges"
   ]
  },
  {
   "cell_type": "code",
   "execution_count": null,
   "id": "398145b4",
   "metadata": {},
   "outputs": [],
   "source": []
  }
 ],
 "metadata": {
  "kernelspec": {
   "display_name": "Python 3 (ipykernel)",
   "language": "python",
   "name": "python3"
  },
  "language_info": {
   "codemirror_mode": {
    "name": "ipython",
    "version": 3
   },
   "file_extension": ".py",
   "mimetype": "text/x-python",
   "name": "python",
   "nbconvert_exporter": "python",
   "pygments_lexer": "ipython3",
   "version": "3.8.10"
  }
 },
 "nbformat": 4,
 "nbformat_minor": 5
}
