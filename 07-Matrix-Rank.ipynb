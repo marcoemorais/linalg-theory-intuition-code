{
 "cells": [
  {
   "cell_type": "markdown",
   "id": "1319ebe3",
   "metadata": {},
   "source": [
    "# 7 - Matrix Rank\n",
    "- 7.1 Six things about matrix rank\n",
    "- 7.2 Interpretations of matrix rank\n",
    "- 7.3 Computing matrix rank\n",
    "- 7.4 Rank and scalar multiplication\n",
    "- 7.5 Rank of added matrices\n",
    "- 7.6 Rank of multiplied matrices\n",
    "- 7.7 Rank of $A, A^T, A^T A, A A^T$\n",
    "- 7.8 Rank of random matrices\n",
    "- 7.9 Boosting rank by shifting\n",
    "- 7.10 Rank difficulties\n",
    "- 7.11 Rank and span\n",
    "- 7.12 Exercises\n",
    "- 7.13 Answers\n",
    "- 7.14 Code challenges\n",
    "- 7.15 Code solutions"
   ]
  },
  {
   "cell_type": "code",
   "execution_count": 1,
   "id": "6de9ef19",
   "metadata": {},
   "outputs": [],
   "source": [
    "import numpy as np"
   ]
  },
  {
   "cell_type": "markdown",
   "id": "79fc1366",
   "metadata": {},
   "source": [
    "## 7.1 Six things about matrix rank\n",
    "\n",
    "### 1/ Rank is a non-negative integer\n",
    "* $0 \\le \\text{rank}(A)$\n",
    "* Only the zeros matrix has a rank of 0.\n",
    "\n",
    "### 2/ Maximum possible rank is min(M, N)\n",
    "* $ 0 \\le \\text{rank}(A) \\le \\text{min}(M, N) $\n",
    "\n",
    "### 3/ Rank is property of the entire matrix.\n",
    "\n",
    "### 4/ Matrices are full rank when rank equals min(M, N)\n",
    "* If $A \\in R^{M,N}$, then the matrix is full rank when $\\text{rank}(A) = \\text{min}(M, N)$\n",
    "\n",
    "### 5/ Rank indicates number of dimensions of information in the matrix.\n",
    "* Rows or columns that are linearly dependent do not add to the rank of the matrix.\n",
    "\n",
    "### 6/ Rank of a matrix is largest number of rows/cols that form a linearly independent set.\n",
    "\n",
    "Notes\n",
    "* One of the main goals of regularization is to add information to the matrix to increase stability or prevent overfitting."
   ]
  },
  {
   "cell_type": "code",
   "execution_count": null,
   "id": "7141ecf3",
   "metadata": {},
   "outputs": [],
   "source": []
  }
 ],
 "metadata": {
  "kernelspec": {
   "display_name": "Python 3 (ipykernel)",
   "language": "python",
   "name": "python3"
  },
  "language_info": {
   "codemirror_mode": {
    "name": "ipython",
    "version": 3
   },
   "file_extension": ".py",
   "mimetype": "text/x-python",
   "name": "python",
   "nbconvert_exporter": "python",
   "pygments_lexer": "ipython3",
   "version": "3.8.10"
  }
 },
 "nbformat": 4,
 "nbformat_minor": 5
}
