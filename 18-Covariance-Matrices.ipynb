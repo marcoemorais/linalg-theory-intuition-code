{
 "cells": [
  {
   "cell_type": "markdown",
   "id": "67a2e455",
   "metadata": {},
   "source": [
    "# 18 - Covariance Matrices\n",
    "- 18.1 Correlation\n",
    "- 18.2 Variance and standard deviation\n",
    "- 18.3 Covariance\n",
    "- 18.4 Correlation coefficient\n",
    "- 18.5 Covariance matrices\n",
    "- 18.6 Correlation to covariance\n",
    "- 18.7 Code challenges\n",
    "- 18.8 Code solutions\n",
    "\n",
    "Notes, code snippets, and the end of chapter exercises from the book _Linear Algebra: Theory, Intuition, Code_ by Mike X Cohen. \n",
    "\n",
    "Find more information about the book on [github](https://github.com/mikexcohen/LinAlgBook) and [amazon](https://www.amazon.com/Linear-Algebra-Theory-Intuition-Code/dp/9083136604)."
   ]
  },
  {
   "cell_type": "code",
   "execution_count": 1,
   "id": "d5442000",
   "metadata": {},
   "outputs": [],
   "source": [
    "import numpy as np"
   ]
  },
  {
   "cell_type": "markdown",
   "id": "ef24e414",
   "metadata": {},
   "source": [
    "## 18.1 Correlation\n",
    "Facts about correlation...\n",
    "- Correlation is always a bivariate metric.\n",
    "- Correlation matrix $R$ is a means of organizing the bivariate correlations among multiple variables.\n",
    "- Correlation is related to, but not the same as covariance.\n",
    "- Correlation is normalized by variance and has range $[-1,+1]$.\n",
    "\n",
    "Facts about covariance...\n",
    "- Covariance describes joint variability of 2 random variables.\n",
    "- Covariance matrix $C$ is based on expected value $E[(X - \\mu)(X - \\mu)^T]$ of 0-mean data matrix $X$.\n",
    "- Covariance range depends on data.\n",
    "\n",
    "Both correlation and covariance are constrained to describe linear relationships."
   ]
  },
  {
   "cell_type": "markdown",
   "id": "b9edefb4",
   "metadata": {},
   "source": [
    "## 18.2 Variance and standard deviation\n",
    "Variance $\\sigma^2$ is the average of the squared difference of $n$ observations of variable $x$ and its' mean $\\bar{x}$.\n",
    "\n",
    "$$\n",
    "\\sigma^2 = \\frac{1}{n} \\sum_{i=1}^n (x_i - \\bar{x})^2\n",
    "$$\n",
    "\n",
    "Notes\n",
    "- If all possible observations are present then the formula shown above is referred to as the population variance.\n",
    "- When only a sample of observations are present, then the denominator is $n-1$ and the quantity is referred to as the sample variance.\n",
    "- Standard deviation $\\sigma$ is derived from variance $\\sigma = \\sqrt{\\sigma^2}$"
   ]
  },
  {
   "cell_type": "code",
   "execution_count": 2,
   "id": "36b61fac",
   "metadata": {},
   "outputs": [],
   "source": [
    "n = 100\n",
    "x = np.random.random(n)\n",
    "\n",
    "sigma2 = np.sum(np.square(x - np.mean(x))) / n\n",
    "\n",
    "# Verify sigma2 = np.var.\n",
    "np.testing.assert_almost_equal(sigma2, np.var(x))"
   ]
  },
  {
   "cell_type": "markdown",
   "id": "ccec3bdb",
   "metadata": {},
   "source": [
    "## 18.3 Covariance\n",
    "Covariance is the expected variance between two variables $E[(X - E[X])(Y - E[Y])]$.\n",
    "\n",
    "$$\n",
    "\\text{COV}(x,y) = \\frac{1}{n} \\sum_{i=1}^n (x_i - \\bar{x}) (y_i - \\bar{y})\n",
    "$$\n",
    "\n",
    "Computation of covariance simplifies to dot product when...\n",
    "1. Data are centered e.g. have 0-mean.\n",
    "2. Both variables have the same number of observations e.g. equal $n$.\n",
    "\n",
    "$$\n",
    "\\text{COV}(x,y) = \\frac{x^T y}{n} \\quad,\\quad \\bar{x} = \\bar{y} = 0\n",
    "$$"
   ]
  },
  {
   "cell_type": "code",
   "execution_count": 3,
   "id": "87173569",
   "metadata": {},
   "outputs": [
    {
     "name": "stdout",
     "output_type": "stream",
     "text": [
      "covariance cov(x,y): 0.08\n"
     ]
    }
   ],
   "source": [
    "# Generate a pair of vectors that differ only by some added noise.\n",
    "n = 100\n",
    "x = np.random.random(n)\n",
    "y = x + np.random.random(n) - 0.5\n",
    "\n",
    "# Compute covariance using uncentered data.\n",
    "cov1 = np.sum((x - np.mean(x)) * (y - np.mean(y))) / n\n",
    "\n",
    "# Compute covariance as dot product using centered data.\n",
    "x0, y0 = x - np.mean(x), y - np.mean(y)\n",
    "cov2 = x0.T @ y0 / n\n",
    "\n",
    "# Compute the covariance matrix C using uncentered data.\n",
    "cov3 = np.cov(x,y, bias=True)\n",
    "\n",
    "# Verfiy covariances are equal.\n",
    "np.testing.assert_almost_equal(cov1, cov2)\n",
    "np.testing.assert_almost_equal(cov2, cov3[0,1])  # Off-diagonal are covariance.\n",
    "np.testing.assert_almost_equal(cov2, cov3[1,0])  # Off-diagonal are covariance.\n",
    "\n",
    "# Verify diagonal elements of covariance matrix are variances.\n",
    "np.testing.assert_almost_equal(np.var(x), cov3[0,0])\n",
    "np.testing.assert_almost_equal(np.var(y), cov3[1,1])\n",
    "\n",
    "print(f\"covariance cov(x,y): {cov1:.2f}\")"
   ]
  },
  {
   "cell_type": "markdown",
   "id": "187a258c",
   "metadata": {},
   "source": [
    "## 18.4 Correlation coefficient\n",
    "Correlation coefficient $r$ describes the correlation between zero-centered data and has range $[-1,+1]$.\n",
    "\n",
    "$$\n",
    "r = \\frac{x^T y}{||x||\\:||y||}\n",
    "$$\n",
    "\n",
    "Notes\n",
    "- When $x$ and $y$ are not centered, then the correlation coefficient becomes the cosine similarity.\n",
    "- Correlation coefficient is an example of mapping over magnitude from (_13.1_)."
   ]
  },
  {
   "cell_type": "code",
   "execution_count": 4,
   "id": "b9fa6bed",
   "metadata": {},
   "outputs": [
    {
     "name": "stdout",
     "output_type": "stream",
     "text": [
      "correlation coefficient (r): 0.76\n"
     ]
    }
   ],
   "source": [
    "# Generate a pair of vectors that differ only by some added noise.\n",
    "n = 100\n",
    "x = np.random.random(n)\n",
    "y = x + np.random.random(n) - 0.5\n",
    "\n",
    "# Compute the correlation coefficient using centered data.\n",
    "x0, y0 = x - np.mean(x), y - np.mean(y)\n",
    "r1 = (x0.T @ y0) / (np.linalg.norm(x0) * np.linalg.norm(y0))\n",
    "\n",
    "# Compute the correlation matrix R using uncentered data.\n",
    "r2 = np.corrcoef(x, y)\n",
    "\n",
    "# Verify the correlation coefficients are equal.\n",
    "np.testing.assert_almost_equal(r1, r2[0,1])  # Off-diagonal are correlation.\n",
    "np.testing.assert_almost_equal(r1, r2[1,0])  # Off-diagonal are correlation.\n",
    "\n",
    "# Verify diagonal elements of correlation matrix are 1.\n",
    "np.testing.assert_almost_equal(1., r2[0,0])\n",
    "np.testing.assert_almost_equal(1., r2[1,1])\n",
    "\n",
    "print(f\"correlation coefficient (r): {r1:.2f}\")"
   ]
  },
  {
   "cell_type": "markdown",
   "id": "bad29fdf",
   "metadata": {},
   "source": [
    "## 18.5 Covariance matrices\n",
    "For matrices with observations in rows and features along the columns, then covariance matrix is $C = X^T X$.\n",
    "\n",
    "For matrices with observations in columns and features along the rows, then covariance matrix is $C = X X^T$.\n",
    "\n",
    "Notes\n",
    "- In both cases, the data matrix $X$ should be centered e.g. 0-mean.\n",
    "- Diagonal elements of covariance matrix are variances of _ith_ feature $\\text{diag}(C) = \\sigma_1^2, \\sigma_i^2, \\dots, \\sigma_n^2$."
   ]
  },
  {
   "cell_type": "markdown",
   "id": "8f9abf7d",
   "metadata": {},
   "source": [
    "## 18.6 Correlation to covariance\n",
    "Correlation matrix $R$ is derived from the symmetric data matrix $X^T X$ and matrix of feature standard deviations $\\Sigma$.\n",
    "\n",
    "$$\n",
    "R = \\frac{1}{n} \\Sigma^{-1} X^T X \\Sigma^{-1}\n",
    "$$\n",
    "\n",
    "Notes\n",
    "- $\\Sigma$ is a matrix of feature standard deviations $\\sigma_1, \\sigma_2, \\dots, \\sigma_n$.\n",
    "- Recall the inverse of a diagonal matrix is the reciprocal of the diagonal elements (_12.2_).\n",
    "- For matrices with observations in columns, the symmetric data matrix is $X X^T$.\n",
    "\n",
    "### Covariance Matrix From Correlation Matrix\n",
    "Covariance matrix $C$ can be derived from correlation matrix $R$.\n",
    "\n",
    "$$\n",
    "C = E[(X - \\mu)(X - \\mu)^T] = \\frac{1}{n} \\Sigma R \\Sigma\n",
    "$$\n",
    "\n",
    "Notes\n",
    "- $\\Sigma$ appears in order to cancel $\\Sigma^{-1}$."
   ]
  },
  {
   "cell_type": "markdown",
   "id": "39750cf7",
   "metadata": {},
   "source": [
    "## 18.7 Code challenges"
   ]
  },
  {
   "cell_type": "markdown",
   "id": "cd445b33",
   "metadata": {},
   "source": [
    "> Implement the equations for the correlation matrix $R$ and covariance matrix $C$. Create a data matrix of random numberswith 4 features and 200 observations. Compare the values you obtain for $R$ and $C$ from your functions with the built-in functions from numpy. "
   ]
  },
  {
   "cell_type": "code",
   "execution_count": 5,
   "id": "ac6c177b",
   "metadata": {},
   "outputs": [
    {
     "name": "stdout",
     "output_type": "stream",
     "text": [
      "R:\n",
      " [[ 1.          0.0478318  -0.01930313  0.11490369]\n",
      " [ 0.0478318   1.         -0.08054259 -0.01775496]\n",
      " [-0.01930313 -0.08054259  1.         -0.00494701]\n",
      " [ 0.11490369 -0.01775496 -0.00494701  1.        ]]\n"
     ]
    }
   ],
   "source": [
    "def correlation(X):\n",
    "    \"\"\"\n",
    "    correlation returns the correlation matrix R\n",
    "\n",
    "    :param X: numpy.ndarray  Matrix X with observations in rows\n",
    "    :return: numpy.ndarray   Correlation matrix R\n",
    "    \"\"\"\n",
    "    # Center the data to 0-mean along the columns.\n",
    "    mu = np.mean(X, axis=0)\n",
    "    Xmu = X - mu\n",
    "\n",
    "    # Compute the standard deviation of each 0-mean feature.\n",
    "    Sigma = np.diag(1./np.std(Xmu, axis=0))\n",
    "\n",
    "    # Compute the correlation matrix.\n",
    "    R = Sigma @ Xmu.T @ Xmu @ Sigma\n",
    "\n",
    "    return R / X.shape[0]\n",
    "\n",
    "\n",
    "# Generate a random matrix with features along the columns.\n",
    "m, n = 200, 4\n",
    "mu, var = 3, 2\n",
    "X = np.random.normal(loc=mu, scale=var, size=(m,n))\n",
    "\n",
    "# Compute the correlation matrix.\n",
    "R = correlation(X)\n",
    "\n",
    "# Compute the correlation matrix using numpy.\n",
    "Rprime = np.corrcoef(X, rowvar=False)\n",
    "\n",
    "# Verify that R matches the built-in function from numpy.\n",
    "np.testing.assert_almost_equal(R, Rprime)\n",
    "\n",
    "print(f'R:\\n {R}')"
   ]
  },
  {
   "cell_type": "code",
   "execution_count": 6,
   "id": "e279dea4",
   "metadata": {},
   "outputs": [
    {
     "name": "stdout",
     "output_type": "stream",
     "text": [
      "C:\n",
      " [[4.00441146 0.17315083 0.22394181 0.25960343]\n",
      " [0.17315083 3.59708349 0.46768008 0.10677363]\n",
      " [0.22394181 0.46768008 3.96628546 0.085771  ]\n",
      " [0.25960343 0.10677363 0.085771   3.63330715]]\n"
     ]
    }
   ],
   "source": [
    "def covariance(X):\n",
    "    \"\"\"\n",
    "    covariance returns the covariance matrix C\n",
    "\n",
    "    :param X: numpy.ndarray  Matrix X with observations in rows\n",
    "    :return: numpy.ndarray   Covariance matrix C\n",
    "    \"\"\"\n",
    "    # Center the data to 0-mean along the columns.\n",
    "    mu = np.mean(X, axis=0)\n",
    "    Xmu = X - mu\n",
    "\n",
    "    # Compute the covariance matrix.\n",
    "    C = Xmu.T @ Xmu\n",
    "\n",
    "    return C / X.shape[0]\n",
    "\n",
    "\n",
    "# Generate a random matrix with features along the columns.\n",
    "m, n = 200, 4\n",
    "mu, var = 3, 2\n",
    "X = np.random.normal(loc=mu, scale=var, size=(m,n))\n",
    "\n",
    "# Compute the covariance matrix.\n",
    "C = covariance(X)\n",
    "\n",
    "# Compute the covariance matrix using numpy.\n",
    "Cprime = np.cov(X, rowvar=False, bias=True)\n",
    "\n",
    "# Verify that C matches the built-in function from numpy.\n",
    "np.testing.assert_almost_equal(C, Cprime)\n",
    "\n",
    "print(f'C:\\n {C}')"
   ]
  },
  {
   "cell_type": "code",
   "execution_count": null,
   "id": "90ab5b46",
   "metadata": {},
   "outputs": [],
   "source": []
  }
 ],
 "metadata": {
  "kernelspec": {
   "display_name": "Python 3 (ipykernel)",
   "language": "python",
   "name": "python3"
  },
  "language_info": {
   "codemirror_mode": {
    "name": "ipython",
    "version": 3
   },
   "file_extension": ".py",
   "mimetype": "text/x-python",
   "name": "python",
   "nbconvert_exporter": "python",
   "pygments_lexer": "ipython3",
   "version": "3.8.10"
  }
 },
 "nbformat": 4,
 "nbformat_minor": 5
}
