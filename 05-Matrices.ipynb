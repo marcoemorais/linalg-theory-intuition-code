{
 "cells": [
  {
   "cell_type": "markdown",
   "id": "b596c56e",
   "metadata": {},
   "source": [
    "# 5 - Matrices\n",
    "- 5.1 Interpreting matrices\n",
    "- 5.2 Matrix terms and notation\n",
    "- 5.3 Matrix dimensionalities\n",
    "- 5.4 The transpose operation\n",
    "- 5.5 Matrix zoology\n",
    "- 5.6 Matrix addition and subtraction\n",
    "- 5.7 Scalar-matrix multiplication\n",
    "- 5.8 Shifting a matrix\n",
    "- 5.9 Diagonal and trace\n",
    "- 5.10 Exercises\n",
    "- 5.11 Answers\n",
    "- 5.12 Code challenges\n",
    "- 5.13 Code solutions\n",
    "\n",
    "Notes, code snippets, and the end of chapter exercises from the book _Linear Algebra: Theory, Intuition, Code_ by Mike X Cohen. \n",
    "\n",
    "Find more information about the book on [github](https://github.com/mikexcohen/LinAlgBook) and [amazon](https://www.amazon.com/Linear-Algebra-Theory-Intuition-Code/dp/9083136604)."
   ]
  },
  {
   "cell_type": "code",
   "execution_count": 1,
   "id": "6f9ec8a4",
   "metadata": {},
   "outputs": [],
   "source": [
    "import numpy as np\n",
    "import matplotlib.pyplot as plt\n",
    "\n",
    "%matplotlib inline"
   ]
  },
  {
   "cell_type": "markdown",
   "id": "92c4b406",
   "metadata": {},
   "source": [
    "## 5.1 Interpreting Matrices\n",
    "Applications of matrices\n",
    "- representing a linear transform or mapping\n",
    "- storing partial derivatives of a multivariable system\n",
    "- representing a system of equations\n",
    "- storing data eg features $\\times$ observations\n",
    "- representing regressors for statistical models\n",
    "- applying geometric transformations for computer graphics\n",
    "- applying kernels used in filtering or convolution"
   ]
  },
  {
   "cell_type": "markdown",
   "id": "01981945",
   "metadata": {},
   "source": [
    "## 5.2 Matrix Terms and Notation\n",
    "Terms\n",
    "- row\n",
    "- column\n",
    "- element\n",
    "- block\n",
    "- diagonal\n",
    "- skew-diagonal\n",
    "- off-diagonal"
   ]
  },
  {
   "cell_type": "markdown",
   "id": "5992f004",
   "metadata": {},
   "source": [
    "## 5.4 The Transpose Operation\n",
    "Transpose is defined for any rectangular matrix.\n",
    "$$\n",
    "A_{i,j} = A^T_{j,i}\n",
    "$$\n",
    "\n",
    "Proofs often make use of this fact.\n",
    "$$\n",
    "(A^T)^T = A\n",
    "$$"
   ]
  },
  {
   "cell_type": "markdown",
   "id": "27f53582",
   "metadata": {},
   "source": [
    "## 5.5 Matrix zoology\n",
    "\n",
    "### Square Matrix\n",
    "A matrix with the number of rows equal to the number of columns.\n",
    "$$\n",
    "\\begin{bmatrix}\n",
    "a & b & c \\\\\n",
    "d & e & f \\\\\n",
    "g & h & i \\\\\n",
    "\\end{bmatrix}\n",
    "$$\n",
    "\n",
    "### Fat or Wide Matrix\n",
    "A matrix with number of colums $\\gt$ number of rows.\n",
    "$$\n",
    "\\begin{bmatrix}\n",
    "a & b & c & d \\\\\n",
    "e & f & g & h \\\\\n",
    "\\end{bmatrix}\n",
    "$$\n",
    "\n",
    "### Tall or Skinny Matrix\n",
    "A matrix with number of rows $\\gt$ number of columns.\n",
    "$$\n",
    "\\begin{bmatrix}\n",
    "a & b \\\\\n",
    "c & d \\\\\n",
    "e & f \\\\\n",
    "g & h \\\\\n",
    "\\end{bmatrix}\n",
    "$$\n",
    "\n",
    "### Symmetric Matrix\n",
    "A square matrix with elements $a_{i,j} = a_{j,i}$.\n",
    "$$\n",
    "A = A^T\n",
    "$$\n",
    "\n",
    "$$\n",
    "\\begin{bmatrix}\n",
    "0 & a & b \\\\\n",
    "a & 0 & c \\\\\n",
    "b & c & 0 \\\\\n",
    "\\end{bmatrix}\n",
    "$$\n",
    "\n",
    "Notes\n",
    "* Entries along the diagonal may not be zero.\n",
    "\n",
    "Examples\n",
    "* Covariance matrix\n",
    "    * $\\Sigma = E[(X - \\mu) (X - \\mu)^T]$\n",
    "    * Variance appears along the diagonal\n",
    "    * Covariance between non-diagonal elements is symmetric\n",
    "    * Imagine sample points from a bivariate Gaussian distribution in which $\\sigma$ in each dimension is different\n",
    "\n",
    "### Skew-Symmetric Matrix\n",
    "A square matrix with elements $a_{i,j} = -a_{j,i}$.\n",
    "$$\n",
    "A = -A^T\n",
    "$$\n",
    "\n",
    "$$\n",
    "\\begin{bmatrix}\n",
    "0 & a & b \\\\\n",
    "-a & 0 & c \\\\\n",
    "-b & -c & 0 \\\\\n",
    "\\end{bmatrix}\n",
    "$$\n",
    "\n",
    "Notes\n",
    "* Entries along the diagonal must be zero.\n",
    "\n",
    "### Identity Matrix\n",
    "A square matrix often written as $\\textbf{I}$ with 1 on the diagonal and 0 everywhere else.\n",
    "$$\n",
    "\\begin{bmatrix}\n",
    "1 & 0 & 0 \\\\\n",
    "0 & 1 & 0 \\\\\n",
    "0 & 0 & 1 \\\\\n",
    "\\end{bmatrix}\n",
    "$$\n",
    "\n",
    "Notes\n",
    "* Column and row vectors are orthonormal $=>$ identity matrix is an orthogonal matrix.\n",
    "* Identity matrix is multiplicative identity $AI = A = IA$\n",
    "\n",
    "### Zero Matrix\n",
    "A matrix often written as $\\textbf{0}$ with elements $a_{i,j} = 0$.\n",
    "$$\n",
    "\\begin{bmatrix}\n",
    "0 & 0 & 0 \\\\\n",
    "0 & 0 & 0 \\\\\n",
    "0 & 0 & 0 \\\\\n",
    "\\end{bmatrix}\n",
    "$$\n",
    "\n",
    "Notes\n",
    "* Zero matrix is additive identity $A + 0 = A = 0 + A$\n",
    "\n",
    "### ATA Matrix\n",
    "Matrix product $A^T A$ is one of the most important matrices in linear algebra.\n",
    "\n",
    "Properties\n",
    "- Produces a square matrix, even when $A$ is non-square.\n",
    "- Produces a symmetric matrix, even when $A$ is not symmetric.\n",
    "- If $A$ is full column-rank, then $A^T A$ is full-rank and the inverse $(A^T A)^{-1}$ exists.\n",
    "- Has the same row space as $A$.\n",
    "- Has orthogonal eigenvectors.\n",
    "- Is positive semi-definite.\n",
    "- Has non-negative, real-valued eigenvalues.\n",
    "- If $A$ has zero-mean, then produces covariance matrix.\n",
    "- Has distinctive appearance when rendered as an image."
   ]
  },
  {
   "cell_type": "code",
   "execution_count": 2,
   "id": "204d4c90",
   "metadata": {},
   "outputs": [
    {
     "data": {
      "image/png": "[encoded data removed]",
      "text/plain": [
       "<Figure size 720x432 with 2 Axes>"
      ]
     },
     "metadata": {
      "needs_background": "light"
     },
     "output_type": "display_data"
    }
   ],
   "source": [
    "A = np.random.random((50,50))\n",
    "ATA = A.T @ A\n",
    "\n",
    "fig1, axes = plt.subplots(1, 2, figsize=(10,6))\n",
    "axes[0].imshow(A, cmap='gray')\n",
    "axes[0].set_title('$A$ is Random Matrix')\n",
    "axes[1].imshow(ATA, cmap='gray')\n",
    "axes[1].set_title('$A^T A$ is Symmetric Matrix')\n",
    "plt.show()"
   ]
  },
  {
   "cell_type": "markdown",
   "id": "42dcc460",
   "metadata": {},
   "source": [
    "## 5.5 Matrix zoology (cont'd)\n",
    "\n",
    "### Diagonal Matrix\n",
    "A matrix often written as $D$ with zeros along the non-diagonals.\n",
    "\n",
    "$D$ can be square (top) ...\n",
    "$$\n",
    "\\begin{bmatrix}\n",
    "d_1 & 0 & 0 \\\\\n",
    "0 & d_2 & 0 \\\\\n",
    "0 & 0 & d_3 \\\\\n",
    "\\end{bmatrix}\n",
    "$$\n",
    "\n",
    "... or non-square (bottom).\n",
    "$$\n",
    "\\begin{bmatrix}\n",
    "d_1 & 0 & 0 & 0 & 0 \\\\\n",
    "0 & d_2 & 0 & 0 & 0 \\\\\n",
    "0 & 0 & d_3 & 0 & 0 \\\\\n",
    "\\end{bmatrix}\n",
    "$$\n",
    "\n",
    "Notes\n",
    "* Transforming a matrix to diagonal form can be achieved through eigendecomposition or singlular value decomposition.\n",
    "* When diagonal elements all have the same value, then often written as scalar multiple of identity matrix $\\lambda I$.\n",
    "* Hollow matrices are opposite of diagonal matrix and have zeros on diagonals and non-zero off-diagonals.\n",
    "    * Euclidean distance matrices are often hollow since self-distance is 0.\n",
    "\n",
    "### Triangular Matrix\n",
    "A square or rectangular matrix containing non-zero values along the diagonals and upper triangle $U$ or lower triangle $L$.\n",
    "\n",
    "$$\n",
    "U =\n",
    "\\begin{bmatrix}\n",
    "a & b & c \\\\\n",
    "0 & d & e \\\\\n",
    "0 & 0 & f \\\\\n",
    "\\end{bmatrix}\n",
    "$$\n",
    "\n",
    "$$\n",
    "L =\n",
    "\\begin{bmatrix}\n",
    "a & 0 & 0 \\\\\n",
    "b & c & 0 \\\\\n",
    "d & e & f \\\\\n",
    "\\end{bmatrix}\n",
    "$$\n",
    "\n",
    "$$\n",
    "a, b, c, d, e, f \\neq 0\n",
    "$$"
   ]
  },
  {
   "cell_type": "code",
   "execution_count": 3,
   "id": "1b3bcd41",
   "metadata": {},
   "outputs": [
    {
     "data": {
      "image/png": "[encoded data removed]",
      "text/plain": [
       "<Figure size 720x432 with 2 Axes>"
      ]
     },
     "metadata": {
      "needs_background": "light"
     },
     "output_type": "display_data"
    }
   ],
   "source": [
    "A = np.random.random((25,25))\n",
    "U = np.triu(A)\n",
    "L = np.tril(A)\n",
    "\n",
    "fig1, axes = plt.subplots(1, 2, figsize=(10,6))\n",
    "axes[0].imshow(U, cmap='gray')\n",
    "axes[0].set_title('$U$ is upper triangular')\n",
    "axes[1].imshow(L, cmap='gray')\n",
    "axes[1].set_title('$L$ is lower triangular')\n",
    "plt.show()"
   ]
  },
  {
   "cell_type": "markdown",
   "id": "8371307c",
   "metadata": {},
   "source": [
    "## 5.5 Matrix zoology (cont'd)\n",
    "\n",
    "### Orthogonal Matrix\n",
    "A matrix is orthogonal if it satisfies the following 2 criteria:\n",
    "- All columns are pairwise orthogonal eg dot product between any two columns is 0.\n",
    "- Each column has unit magnitude.\n",
    "\n",
    "A more compact expression for these criteria is:\n",
    "$$\n",
    "Q^T Q = I\n",
    "$$\n",
    "\n",
    "Notes\n",
    "- The standard mutually orthogonal unit vectors form an orthogonal matrix when concatenated along rows or columns.\n",
    "- The identity matrix $I$ is an orthogonal matrix.\n",
    "\n",
    "### Block Matrix\n",
    "A matrix composed of other matrices is referred to as a block matrix.\n",
    "\n",
    "$$\n",
    "\\begin{bmatrix}\n",
    "A & B \\\\\n",
    "C & D \\\\\n",
    "\\end{bmatrix}\n",
    "$$"
   ]
  },
  {
   "cell_type": "code",
   "execution_count": 4,
   "id": "abde9bd5",
   "metadata": {},
   "outputs": [
    {
     "data": {
      "image/png": "[encoded data removed]",
      "text/plain": [
       "<Figure size 720x432 with 2 Axes>"
      ]
     },
     "metadata": {
      "needs_background": "light"
     },
     "output_type": "display_data"
    }
   ],
   "source": [
    "A = np.array([1,2,3,4]).reshape(2,2)\n",
    "block = np.block([[A,A],[A,A]])\n",
    "\n",
    "fig1, axes = plt.subplots(1, 2, figsize=(10,6))\n",
    "axes[0].imshow(A, cmap='gray')\n",
    "axes[0].set_title('$A$ is 2 X 2 Matrix')\n",
    "axes[1].imshow(block, cmap='gray')\n",
    "axes[1].set_title('Block Matrix Composed of 2 X 2 Blocks of A')\n",
    "plt.show()"
   ]
  },
  {
   "cell_type": "markdown",
   "id": "81f3c372",
   "metadata": {},
   "source": [
    "## 5.5 Matrix zoology (cont'd)\n",
    "\n",
    "### Toeplitz Matrix\n",
    "A matrix constructed from row and column vectors in which the descending diagonals are constant value.\n",
    "\n",
    "$$\n",
    "\\begin{bmatrix}\n",
    "a & b & c & d \\\\\n",
    "b & a & b & c \\\\\n",
    "c & b & a & b \\\\\n",
    "d & c & b & a \\\\\n",
    "\\end{bmatrix}\n",
    "$$\n",
    "\n",
    "Notes\n",
    "* Toeplitz matrices are not always symmetric."
   ]
  },
  {
   "cell_type": "code",
   "execution_count": 5,
   "id": "1f8bd32b",
   "metadata": {},
   "outputs": [
    {
     "name": "stdout",
     "output_type": "stream",
     "text": [
      "[[1 2 3 4]\n",
      " [2 1 2 3]\n",
      " [3 2 1 2]\n",
      " [4 3 2 1]]\n",
      "[[1 4 5 6]\n",
      " [2 1 4 5]\n",
      " [3 2 1 4]]\n"
     ]
    }
   ],
   "source": [
    "def toeplitz(r, c):\n",
    "    \"\"\"\n",
    "    toeplitz returns the toeplitz matrix constructed from row and column vectors\n",
    "    \n",
    "    :param r: numpy.ndarray  Row vector.\n",
    "    :param c: numpy.ndarray  Column vector.\n",
    "    :return: numpy.ndarray   Toeplitz matrix.\n",
    "    \"\"\"\n",
    "    assert r.ndim == c.ndim == 1\n",
    "    assert r.dtype == c.dtype\n",
    "\n",
    "    nrow, ncol = c.shape[0], r.shape[0]\n",
    "    A = np.empty((nrow,ncol), dtype=r.dtype)\n",
    "    for i in range(nrow):\n",
    "        A[i,i:] = r[:ncol-i]\n",
    "        A[i:,i] = c[:nrow-i]\n",
    "    \n",
    "    return A\n",
    "\n",
    "\n",
    "a = np.array([1,2,3,4], dtype=int)\n",
    "T = toeplitz(a, a)\n",
    "print(T)\n",
    "expected = np.array([[1,2,3,4],[2,1,2,3],[3,2,1,2],[4,3,2,1]], dtype=int)\n",
    "np.testing.assert_equal(T, expected, \"toeplitz, symmetric\")\n",
    "\n",
    "a = np.array([1,4,5,6], dtype=int)\n",
    "b = np.array([1,2,3], dtype=int)\n",
    "T = toeplitz(a, b)\n",
    "print(T)\n",
    "expected = np.array([[1,4,5,6],[2,1,4,5],[3,2,1,4]], dtype=int)\n",
    "np.testing.assert_equal(T, expected, \"toeplitz, non-symmetric\")"
   ]
  },
  {
   "cell_type": "markdown",
   "id": "017da782",
   "metadata": {},
   "source": [
    "## 5.8 Shifting a Matrix\n",
    "Shifted matrix $\\hat{A}$ is the result of adding a usually small multiple of the identity matrix to the matrix $A$.\n",
    "\n",
    "$$\n",
    "\\hat{A} = A + \\lambda I\n",
    "$$\n",
    "\n",
    "Properties\n",
    "- Only diagonal elements are modified.\n",
    "- Since shifting only applies to diagonal elements it can make previously identical rows in the matrix slightly different.\n",
    "  - This helps improve the conditioning of the matrix."
   ]
  },
  {
   "cell_type": "markdown",
   "id": "4477c979",
   "metadata": {},
   "source": [
    "## 5.9 Diagonal and Trace\n",
    "\n",
    "### Trace\n",
    "Trace of the matrix $\\text{tr}(A)$ is the sum of the diagonal elements.\n",
    "\n",
    "$$\n",
    "\\text{tr}(A) = \\sum_{i=1}^M a_{i,i}\n",
    "$$"
   ]
  },
  {
   "cell_type": "markdown",
   "id": "944003d1",
   "metadata": {},
   "source": [
    "## 5.10 Exercises\n",
    "\n",
    "3. Work out formulas for the count of elements based on matrix dimension $N$.\n",
    "- Number of elements: $N^2$\n",
    "- Number of elements along diagonal: $N$\n",
    "- Number of elements in upper / lower triangle: $N (N-1) / 2$\n",
    "    - ... combinatorics: form unique pairs from $N$ and $N-1$\n",
    "\n",
    "$$\n",
    "\\begin{bmatrix}\n",
    "a & b & c & d \\\\\n",
    "e & f & g & h \\\\\n",
    "i & j & k & l \\\\\n",
    "m & n & o & p \\\\\n",
    "\\end{bmatrix}\n",
    "$$\n",
    "\n",
    "- Number of elements: $4^2 = 16$\n",
    "- Number of elements along diagonal: $4$\n",
    "- Number of elements in upper / lower triangle: $4 (4-1) / 2 = 6$"
   ]
  },
  {
   "cell_type": "markdown",
   "id": "1d9e12a2",
   "metadata": {},
   "source": [
    "## 5.12 Code Challenges"
   ]
  },
  {
   "cell_type": "markdown",
   "id": "e6630d0e",
   "metadata": {},
   "source": [
    "> 1. The goal of this exercise is to create a matrix that contains the dot products between all pairs of columns in tow other matrices. First create two $4 \\times 2$ matrices of random numbers. Then write a double-for loop in which you compute the dot products between each column of both matrices. The $i,j$ element of the resulting matrix will be the dot product between column $i$ of the first matrix and column $j$ of th second matrix."
   ]
  },
  {
   "cell_type": "code",
   "execution_count": 6,
   "id": "c0a1e425",
   "metadata": {},
   "outputs": [],
   "source": [
    "def dot_pairwise_column(A, B):\n",
    "    \"\"\"\n",
    "    dot_pairwise_column returns the pairwise dot products of columns of matrices A and B\n",
    "    \n",
    "    :param A: numpy.ndarray  Matrix A of dimension m \\times n.\n",
    "    :param B: numpy.ndarray  Matrix B of dimension m \\times n.\n",
    "    :return: numpy.ndarray   Matrix C with pairwise dot products along diagonals.\n",
    "    \"\"\"\n",
    "    assert A.shape == B.shape\n",
    "\n",
    "    ncol = A.shape[1]\n",
    "    C = np.zeros((ncol,ncol))\n",
    "    for i in range(ncol):\n",
    "        for j in range(ncol):\n",
    "            C[i,j] = np.dot(A[:,i], B[:,j])\n",
    "    return C\n",
    "\n",
    "\n",
    "A = np.stack((np.array([1,2,3,4]),np.array([5,6,7,8])), axis=1)\n",
    "B = np.stack((np.array([4,3,2,1]),np.array([8,7,6,5])), axis=1)\n",
    "C = dot_pairwise_column(A, B)\n",
    "expected = np.array([[20,60],[60,164]])\n",
    "np.testing.assert_equal(C, expected, \"dot_pairwise_column\")"
   ]
  },
  {
   "cell_type": "markdown",
   "id": "f61a9b94",
   "metadata": {},
   "source": [
    "> 2. Create a symmetric matrix by starting with a dense random numbers matrix and applying three matrix operations: \n",
    "> - convert to triangular form\n",
    "> - transpose\n",
    "> - matrix addition"
   ]
  },
  {
   "cell_type": "code",
   "execution_count": 7,
   "id": "932e653d",
   "metadata": {},
   "outputs": [],
   "source": [
    "def symmetric(A):\n",
    "    \"\"\"\n",
    "    symmetric creates a symmetric matrix from A using only addition and transpose\n",
    "\n",
    "    :param A: numpy.ndarray  Matrix A\n",
    "    :return: numpy.ndarray   Symmetric matrix A.\n",
    "    \"\"\"\n",
    "    S = np.zeros_like(A)\n",
    "    L, U = np.tril(A), np.triu(A)\n",
    "    return A + L.T + U.T\n",
    "\n",
    "\n",
    "A = np.random.random((4,4))\n",
    "S = symmetric(A)\n",
    "np.testing.assert_equal(S == S.T, True, \"symmetric\")"
   ]
  },
  {
   "cell_type": "markdown",
   "id": "ce43e1b0",
   "metadata": {},
   "source": [
    "> 3. Create a diagonal matrix of size $4 \\times 8$ without using the `diag()` function."
   ]
  },
  {
   "cell_type": "code",
   "execution_count": 8,
   "id": "1440879d",
   "metadata": {},
   "outputs": [
    {
     "name": "stdout",
     "output_type": "stream",
     "text": [
      "[[1. 0. 0. 0. 0. 0. 0. 0.]\n",
      " [0. 2. 0. 0. 0. 0. 0. 0.]\n",
      " [0. 0. 3. 0. 0. 0. 0. 0.]\n",
      " [0. 0. 0. 4. 0. 0. 0. 0.]]\n"
     ]
    }
   ],
   "source": [
    "def diagn(diag, n):\n",
    "    \"\"\"\n",
    "    diagn returns a diagonal matrix having n columns \n",
    "    \n",
    "    :param diag: numpy.ndarray  Vector of elements along the diagonal.\n",
    "    :param n: int               Number of columns.\n",
    "    :return: numpy.ndarray      Diagonal matrix.\n",
    "    \"\"\"\n",
    "    assert diag.ndim == 1\n",
    "\n",
    "    m = diag.shape[0]\n",
    "    D = np.zeros((m, n))\n",
    "    for i in range(m):\n",
    "        D[i,i] = diag[i]\n",
    "    return D\n",
    "\n",
    "\n",
    "D = diagn(np.array([1,2,3,4]), 8)\n",
    "v1 = np.array([1,0,0,0])\n",
    "v2 = np.array([0,2,0,0])\n",
    "v3 = np.array([0,0,3,0])\n",
    "v4 = np.array([0,0,0,4])\n",
    "z = np.zeros(4)\n",
    "expected = np.stack((v1,v2,v3,v4,z,z,z,z), axis=1)\n",
    "print(expected)\n",
    "np.testing.assert_equal(D, expected, \"diagn\")"
   ]
  },
  {
   "cell_type": "code",
   "execution_count": null,
   "id": "425035c2",
   "metadata": {},
   "outputs": [],
   "source": []
  }
 ],
 "metadata": {
  "kernelspec": {
   "display_name": "Python 3 (ipykernel)",
   "language": "python",
   "name": "python3"
  },
  "language_info": {
   "codemirror_mode": {
    "name": "ipython",
    "version": 3
   },
   "file_extension": ".py",
   "mimetype": "text/x-python",
   "name": "python",
   "nbconvert_exporter": "python",
   "pygments_lexer": "ipython3",
   "version": "3.8.10"
  }
 },
 "nbformat": 4,
 "nbformat_minor": 5
}
