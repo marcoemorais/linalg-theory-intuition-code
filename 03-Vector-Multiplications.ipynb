{
 "cells": [
  {
   "cell_type": "markdown",
   "id": "2f46f7f5",
   "metadata": {},
   "source": [
    "# 3 - Vector Multiplications\n",
    "- 3.1 Vector dot product: Algebra\n",
    "- 3.2 Dot product properties\n",
    "- 3.3 Vector dot product: Geometry\n",
    "- 3.4 Algebra and geometry\n",
    "- 3.5 Linear weighted combinations\n",
    "- 3.6 The outer product\n",
    "- 3.7 Hadamard multiplication\n",
    "- 3.8 Cross product\n",
    "- 3.9 Unit vectors\n",
    "- 3.10 Exercises\n",
    "- 3.11 Answers\n",
    "- 3.12 Code challenges\n",
    "- 3.13 Code solutions"
   ]
  },
  {
   "cell_type": "code",
   "execution_count": 1,
   "id": "b7db0b28",
   "metadata": {},
   "outputs": [],
   "source": [
    "import math\n",
    "\n",
    "import numpy as np\n",
    "import matplotlib.pyplot as plt\n",
    "\n",
    "%matplotlib inline"
   ]
  },
  {
   "cell_type": "markdown",
   "id": "4c961788",
   "metadata": {},
   "source": [
    "## 3.1 Vector dot product: Algebra\n",
    "\n",
    "### Dot Product: Algebra\n",
    "$$\n",
    "a^T b = \\langle a, b \\rangle = a \\cdot b = \\sum_{i=0}^n a_i b_i\n",
    "$$\n",
    "\n",
    "### Norm Squared\n",
    "Dot product of a vector with itself is equal to the norm-squared.\n",
    "\n",
    "$$\n",
    "a^T a = \\left|\\textbf{a}\\right|^2\n",
    "$$\n",
    "\n",
    "### Average\n",
    "Average describes the most likely value of a component of the vector.\n",
    "\n",
    "$$\n",
    "\\text{avg}(\\textbf{a}) = \\frac{1}{n} \\textbf{a}^T \\textbf{1} \n",
    "$$\n",
    "\n",
    "### RMS\n",
    "RMS describes the typical absolute value of a component of the vector.\n",
    "\n",
    "$$\n",
    "\\text{rms}(\\textbf{a}) = \\frac{\\left|\\textbf{a}\\right|}{\\sqrt{n}}\n",
    "$$\n",
    "\n",
    "### Norm of Sum\n",
    "Norm of the sum of two vectors is used to link algebraic and geometric interpretations.\n",
    "\n",
    "$$\n",
    "\\left|\\textbf{a + b}\\right|^2 = \\left|\\textbf{a}\\right|^2 + \\left|\\textbf{b}\\right|^2 + 2 a^T b\n",
    "$$\n",
    "\n",
    "### Cauchy-Schwartz\n",
    "Absolute value of the dot product is always less than or equal to the product of the magnitudes.\n",
    "\n",
    "$$\n",
    "\\left|a^T b\\right| \\leq \\left|\\textbf{a}\\right| \\left|\\textbf{b}\\right|\n",
    "$$"
   ]
  },
  {
   "cell_type": "markdown",
   "id": "2912b9a0",
   "metadata": {},
   "source": [
    "## 3.3 Vector dot product: Geometry\n",
    "\n",
    "### Dot Product: Geometry\n",
    "$$\n",
    "a^T b = \\cos \\theta \\left|\\textbf{a}\\right| \\left|\\textbf{b}\\right|\n",
    "$$\n",
    "\n",
    "Note: Entries of a vector should be in consistent units in order to compute angle. If not, then normalize by converting to unit vectors.\n",
    "\n",
    "### De-Meaned Vector aka Centered\n",
    "A de-meaned vector has the mean value removed from each component such that the vector has mean of 0 ($\\mu = 0$).\n",
    "\n",
    "$$\n",
    "\\bar{a} = \\textbf{a} - \\frac{1}{n} \\textbf{a}^T \\textbf{1}\n",
    "$$\n",
    "\n",
    "### Pearson Correlation Coefficient\n",
    "Pearson correlation coefficient ($\\rho$) ranges between $-1$ and $+1$ and describes the linear correlation between a pair of centered vectors.\n",
    "\n",
    "$$\n",
    "\\rho = \\frac{\\bar{a}^T \\bar{b}}{\\left|\\bar{a}\\right| \\left|\\bar{b}\\right|}\n",
    "$$\n",
    "\n",
    "### Relationship Between Dot Product and Angle\n",
    "$$\n",
    "\\text{obtuse}\\\\\n",
    "a^T b < 0 \\rightarrow \\frac{\\pi}{2} < \\theta < \\pi\n",
    "$$\n",
    "\n",
    "$$\n",
    "\\text{orthogonal}\\\\\n",
    "a^T b = 0 \\rightarrow \\theta = \\frac{\\pi}{2}\n",
    "$$\n",
    "\n",
    "$$\n",
    "\\text{acute}\\\\\n",
    "a^T b > 0 \\rightarrow 0 < \\theta < \\frac{\\pi}{2}\n",
    "$$"
   ]
  },
  {
   "cell_type": "markdown",
   "id": "0e3804d4",
   "metadata": {},
   "source": [
    "## 3.4 Algebra and Geometry\n",
    "Summary: Dot product has both algebraic and geometric interpretations.\n",
    "\n",
    "$$\n",
    "a^T b = \\langle a, b \\rangle = a \\cdot b = \\sum_{i=0}^n a_i b_i = \\cos \\theta \\left|\\textbf{a}\\right| \\left|\\textbf{b}\\right|\n",
    "$$"
   ]
  },
  {
   "cell_type": "markdown",
   "id": "fbed3856",
   "metadata": {},
   "source": [
    "## 3.5 Linear weighted combinations\n",
    "A linear combination of $n$ vectors where $\\textbf{v}_i$ is the _ith_ vector and a vector of scalar weights $\\lambda$ where $\\lambda_i$ is the _ith_ scalar weight. \n",
    "\n",
    "$$\n",
    "w = \\lambda_1 v_1 + \\cdots + \\lambda_n v_n\n",
    "$$\n",
    "\n",
    "Note: Dimension of $v$ vectors could be arbitrary and does not need to equal $n$.  For example: a weighted combination of 3 different 5d vectors."
   ]
  },
  {
   "cell_type": "markdown",
   "id": "c8170a5a",
   "metadata": {},
   "source": [
    "## 3.6 The outer product\n",
    "Outer product of a N-dimensional vector $\\textbf{a}$ and W-dimensional vector $\\textbf{b}$ is the N X W dimensional matrix.\n",
    "\n",
    "$$\n",
    "a b^T = \n",
    "\\begin{bmatrix}a \\\\ b \\\\ c \\end{bmatrix} \n",
    "\\begin{bmatrix}d & e & f \\end{bmatrix} = \n",
    "\\begin{bmatrix}ad & ae & af \\\\ bd & be & bf \\\\ cd & ce & cf \\end{bmatrix}\n",
    "$$\n",
    "\n",
    "Note: $a b^T$ is formed from the elementwise products of the rows of $\\textbf{a}$ and columns of $\\textbf{b}$"
   ]
  },
  {
   "cell_type": "markdown",
   "id": "64982a69",
   "metadata": {},
   "source": [
    "Non-vectorized implementation of outer product."
   ]
  },
  {
   "cell_type": "code",
   "execution_count": 2,
   "id": "2407deb0",
   "metadata": {},
   "outputs": [],
   "source": [
    "def outer(a, b):\n",
    "    \"\"\"\n",
    "    outer returns the outer product of 1d vectors a and b\n",
    "    \n",
    "    :param a: numpy.ndarray  Vector of dimension m.\n",
    "    :param b: numpy.ndarray  Vector of dimension n.\n",
    "    :return: numpy.ndarray   Matrix of dimension $m \\times n$.\n",
    "    \"\"\"\n",
    "    assert a.ndim == b.ndim == 1\n",
    "    \n",
    "    m, n = a.shape[0], b.shape[0]\n",
    "    abT = np.empty((m, n))\n",
    "    for i in range(m):\n",
    "        for j in range(n):\n",
    "            abT[i, j] = a[i] * b[j]\n",
    "    return abT"
   ]
  },
  {
   "cell_type": "markdown",
   "id": "702059d0",
   "metadata": {},
   "source": [
    "Test of correctness."
   ]
  },
  {
   "cell_type": "code",
   "execution_count": 3,
   "id": "724cc6d1",
   "metadata": {},
   "outputs": [],
   "source": [
    "a, b = np.random.random((3)), np.random.random((5))\n",
    "np.testing.assert_almost_equal(outer(a, b), np.outer(a, b), err_msg=\"outer <> np.outer\")"
   ]
  },
  {
   "cell_type": "markdown",
   "id": "5cb3607f",
   "metadata": {},
   "source": [
    "## 3.7 Hadamard multiplication\n",
    "Hadamard multiplication is the elementwise multiplication of 2 vectors.  Both vectors must be of same dimension.\n",
    "\n",
    "$$\n",
    "a \\odot b = \\begin{bmatrix}a_1 b_1 & \\cdots & a_n b_n\\end{bmatrix}\n",
    "$$"
   ]
  },
  {
   "cell_type": "code",
   "execution_count": 4,
   "id": "8647cd81",
   "metadata": {},
   "outputs": [],
   "source": [
    "a = np.array([1, 2, 3])\n",
    "b = np.array([4, 5, 6])\n",
    "\n",
    "# In numpy, the multiplication operator performs elementwise multiplication.\n",
    "expected = np.array([4, 10, 18])\n",
    "np.testing.assert_equal(a * b, expected, err_msg=\"hadamard\")"
   ]
  },
  {
   "cell_type": "markdown",
   "id": "df3a7379",
   "metadata": {},
   "source": [
    "## 3.8 Cross product\n",
    "Cross product defined only for 3d vectors. \n",
    "\n",
    "$$\n",
    "a \\times b =\n",
    "\\det \\begin{bmatrix} \n",
    "x & y & z & x & y \\\\ \n",
    "a_x & a_y & a_z & a_x & a_y \\\\ \n",
    "b_x & b_y & b_z & b_x & b_y \n",
    "\\end{bmatrix} =\n",
    "\\begin{bmatrix}\n",
    "a_y b_z - a_z b_y \\\\\n",
    "a_z b_x - a_x b_z \\\\\n",
    "a_x b_y - a_y b_x\n",
    "\\end{bmatrix}\n",
    "$$\n",
    "\n",
    "### Cross Product: Perpendicular\n",
    "Cross product of vectors produces a new vector perpendicular to both.\n",
    "\n",
    "$$\n",
    "a \\times b = c \\rightarrow c \\perp a, c \\perp b\n",
    "$$\n",
    "\n",
    "Note: Direction of the ndew vector is given by the right hand rule.\n",
    "\n",
    "### Cross Product: Anticommutative\n",
    "$$\n",
    "a \\times b = -b \\times a\n",
    "$$\n",
    "\n",
    "### Cross Product: Geometry\n",
    "$$\n",
    "\\sin \\theta \\left|\\textbf{a}\\right| \\left|\\textbf{b}\\right| = \\left|a \\times b \\right|\n",
    "$$\n",
    "\n",
    "Note: The geometric relationship of the cross product and innner product are similar.\n",
    "* Replace cosine with sine.\n",
    "* Replace product of magnitudes with magnitude of cross product."
   ]
  },
  {
   "cell_type": "markdown",
   "id": "e12e2f75",
   "metadata": {},
   "source": [
    "## 3.9 Unit vectors\n",
    "The unit vector $\\hat{a}$ is the multiplicative inverse of the vector with it's magnitude.\n",
    "$$\n",
    "\\hat{a} = \\frac{\\textbf{a}}{\\left|\\textbf{a}\\right|}\n",
    "$$\n",
    "\n",
    "\n",
    "### Magnitude\n",
    "The unit vector $\\hat{a}$ points in the same direction as $\\textbf{a}$ but has unit magnitude.\n",
    "\n",
    "$$\n",
    "\\left|\\hat{a}\\right| = \\textbf{1}\n",
    "$$\n"
   ]
  },
  {
   "cell_type": "markdown",
   "id": "932d76d1",
   "metadata": {},
   "source": [
    "Numpy doesn't have an explicit function to compute unit vector."
   ]
  },
  {
   "cell_type": "code",
   "execution_count": 5,
   "id": "55ac56f2",
   "metadata": {},
   "outputs": [],
   "source": [
    "def unit(a):\n",
    "    \"\"\"\n",
    "    unit returns the unit vector of a\n",
    "    \n",
    "    :param a: numpy.ndarray  Vector.\n",
    "    :return: numpy.ndarray   Unit vector of a\n",
    "    \"\"\"\n",
    "    assert a.ndim == 1\n",
    "\n",
    "    ahat = a / np.linalg.norm(a)\n",
    "    return ahat"
   ]
  },
  {
   "cell_type": "markdown",
   "id": "595e3082",
   "metadata": {},
   "source": [
    "Test of correctness."
   ]
  },
  {
   "cell_type": "code",
   "execution_count": 6,
   "id": "f44a1009",
   "metadata": {},
   "outputs": [],
   "source": [
    "a = np.array([3, 4, 8])\n",
    "\n",
    "expected = a / np.sqrt(np.dot(a.T, a))\n",
    "np.testing.assert_equal(unit(a), expected, err_msg=\"unit\")"
   ]
  },
  {
   "cell_type": "markdown",
   "id": "9b4120d6",
   "metadata": {},
   "source": [
    "## 3.10 Exercises"
   ]
  },
  {
   "cell_type": "code",
   "execution_count": 7,
   "id": "077542f8",
   "metadata": {},
   "outputs": [],
   "source": [
    "def vecangle(a, b):\n",
    "    \"\"\"\n",
    "    vecangle returns the angle, in radians, between vectors a and b\n",
    "    \n",
    "    :param a: numpy.ndarray  Vector of dimension m.\n",
    "    :param b: numpy.ndarray  Vector of dimension m.\n",
    "    :return: float           Angle in radians between a and b.\n",
    "    \"\"\"\n",
    "    assert a.ndim == b.ndim == 1\n",
    "    assert a.shape[0] == b.shape[0]\n",
    "\n",
    "    # Convert a and b to unit vectors to avoid domain errors from math.acos.\n",
    "    return math.acos(np.dot(a/np.linalg.norm(a), b/np.linalg.norm(b)))\n",
    "\n",
    "\n",
    "a = np.array([1,2,3], dtype=int)\n",
    "b = np.array([-2,1,0], dtype=int)\n",
    "theta = vecangle(a, b)\n",
    "expected = math.pi/2.\n",
    "np.testing.assert_equal(expected, theta, err_msg=\"exercise_3a\")\n",
    "\n",
    "a = np.array([10,12,4], dtype=float)\n",
    "b = np.array([2.5,3,1], dtype=float)\n",
    "theta = vecangle(a, b)\n",
    "expected = 0.\n",
    "np.testing.assert_almost_equal(expected, theta, err_msg=\"exercise_3b\")\n",
    "\n",
    "a = np.array([-1,-2,3], dtype=int)\n",
    "b = np.array([3,6,-9], dtype=int)\n",
    "theta = vecangle(a, b)\n",
    "expected = math.pi\n",
    "np.testing.assert_equal(expected, theta, err_msg=\"exercise_3c\")"
   ]
  },
  {
   "cell_type": "markdown",
   "id": "a34f31e8",
   "metadata": {},
   "source": [
    "## 3.12 Code Challenges"
   ]
  },
  {
   "cell_type": "markdown",
   "id": "2830e85a",
   "metadata": {},
   "source": [
    "> 1. Create a linear weighted combination of 3 vectors. You'll learn in later chapters that linear combinations are most efficiently represented as matrix-vector multiplication, but we'll keep things simple for now. Create 3 $\\times$ 5d vectors and a fourth vector that contains the weights for each vector. Then create the weighted sum of those vectors. Next, modify the code to conpute the weighted mixture of 4 $\\times$ 5d vectors. What is the relationship between the dimensionality of the to-be-summed vectors, the number of vectors to sum, and the dimensionality of the coefficients vector?\n",
    "\n",
    "Answer\n",
    "* Result will have same dimensionality as the input column vectors.\n",
    "* Weights will have same dimensionality as the number of vectors."
   ]
  },
  {
   "cell_type": "code",
   "execution_count": 8,
   "id": "59e5adff",
   "metadata": {},
   "outputs": [
    {
     "name": "stdout",
     "output_type": "stream",
     "text": [
      "[[1. 2. 3. 4.]\n",
      " [1. 2. 3. 4.]\n",
      " [1. 2. 3. 4.]\n",
      " [1. 2. 3. 4.]\n",
      " [1. 2. 3. 4.]]\n",
      "[0.1 0.2 0.3 0.4]\n",
      "[3. 3. 3. 3. 3.]\n"
     ]
    }
   ],
   "source": [
    "def linear_weighted_combination(V, weights):\n",
    "    \"\"\"\n",
    "    linear_weighted_combination of the matrix of vectors V\n",
    "    \n",
    "    :param V: numpy.ndarray        Matrix of concatenated column vectors.\n",
    "    :param weights: numpy.ndarray  Vector of weights.\n",
    "    :return: numpy.ndarray         Linear weighted combination.\n",
    "    \"\"\"\n",
    "    assert V.ndim == 2\n",
    "    assert weights.ndim == 1\n",
    "    assert V.shape[1] == weights.shape[0]\n",
    "\n",
    "    return np.sum(weights*V, axis=1)\n",
    "\n",
    "\n",
    "v1 = np.array([1,1,1,1,1], dtype=float)\n",
    "v2 = np.array([2,2,2,2,2], dtype=float)\n",
    "v3 = np.array([3,3,3,3,3], dtype=float)\n",
    "v4 = np.array([4,4,4,4,4], dtype=float)\n",
    "V = np.stack((v1,v2,v3,v4), axis=1)\n",
    "weights = np.array([0.1,0.2,0.3,0.4])\n",
    "expected = 3.*np.ones(V.shape[0])\n",
    "print(V)\n",
    "print(weights)\n",
    "print(expected)\n",
    "\n",
    "lwc = linear_weighted_combination(V, weights)\n",
    "np.testing.assert_equal(lwc, expected, err_msg=\"4 x 5d\")"
   ]
  },
  {
   "cell_type": "markdown",
   "id": "0af175c2",
   "metadata": {},
   "source": [
    "> 2. Develop a method to use the dot product to compute the average of a set of numbers in a vector."
   ]
  },
  {
   "cell_type": "code",
   "execution_count": 9,
   "id": "0fc34f2c",
   "metadata": {},
   "outputs": [],
   "source": [
    "def average(v):\n",
    "    \"\"\"\n",
    "    average returns the average of the values in the vector v\n",
    "    \n",
    "    :param v: numpy.ndarray  Vector.\n",
    "    :return: float           Average of the values in vector v.\n",
    "    \"\"\"\n",
    "    assert v.ndim == 1\n",
    "    \n",
    "    return np.dot(v, np.ones(v.shape[0])) / v.shape[0]\n",
    "\n",
    "\n",
    "v = np.array([1,2,3,4,5], dtype=int)\n",
    "mu = average(v)\n",
    "expected = 3\n",
    "np.testing.assert_equal(mu, expected, err_msg=\"average\")\n",
    "\n",
    "v = np.random.random(5)\n",
    "mu = average(v)\n",
    "expected = np.average(v)\n",
    "np.testing.assert_almost_equal(mu, expected, err_msg=\"average\")"
   ]
  },
  {
   "cell_type": "markdown",
   "id": "54c1c4c5",
   "metadata": {},
   "source": [
    "> 3. What if some numbers are more important than others. Modify the previous method to use the dot product to compute the weighted mean of a set of numbers."
   ]
  },
  {
   "cell_type": "code",
   "execution_count": 10,
   "id": "e5c18ade",
   "metadata": {},
   "outputs": [],
   "source": [
    "def weighted_average(v, weights):\n",
    "    \"\"\"\n",
    "    weighted_average returns the weighted average of the values in the vector v\n",
    "    \n",
    "    :param v: numpy.ndarray        Vector.\n",
    "    :param weights: numpy.ndarray  Vector of weights.\n",
    "    :return: float                 Weighted average of the values in vector v.\n",
    "    \"\"\"\n",
    "    assert v.ndim == 1\n",
    "    assert v.shape[0] == weights.shape[0]\n",
    "\n",
    "    return np.dot(v, weights) / np.sum(weights)\n",
    "\n",
    "\n",
    "v = np.array([1,2,3,4,5], dtype=int)\n",
    "weights = np.array([3,2,0,2,3])\n",
    "mu = weighted_average(v, weights)\n",
    "expected = 3\n",
    "np.testing.assert_equal(mu, expected, err_msg=\"weighted_average\")\n",
    "\n",
    "v = np.random.random(5)\n",
    "weights = np.random.random(5)\n",
    "mu = weighted_average(v, weights)\n",
    "expected = np.average(v, weights=weights)\n",
    "np.testing.assert_almost_equal(mu, expected, err_msg=\"weighted_average\")"
   ]
  },
  {
   "cell_type": "code",
   "execution_count": null,
   "id": "18910577",
   "metadata": {},
   "outputs": [],
   "source": []
  }
 ],
 "metadata": {
  "kernelspec": {
   "display_name": "Python 3 (ipykernel)",
   "language": "python",
   "name": "python3"
  },
  "language_info": {
   "codemirror_mode": {
    "name": "ipython",
    "version": 3
   },
   "file_extension": ".py",
   "mimetype": "text/x-python",
   "name": "python",
   "nbconvert_exporter": "python",
   "pygments_lexer": "ipython3",
   "version": "3.8.10"
  }
 },
 "nbformat": 4,
 "nbformat_minor": 5
}
