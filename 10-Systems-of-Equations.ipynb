{
 "cells": [
  {
   "cell_type": "markdown",
   "id": "12a42478",
   "metadata": {},
   "source": [
    "# 10 - Systems of Equations\n",
    "- 10.1 Algebra and geometry of equations\n",
    "- 10.2 From systems to matrices\n",
    "- 10.3 Row reduction\n",
    "- 10.4 Gaussian elimination\n",
    "- 10.5 Row-reduced echelon form\n",
    "- 10.6 Gauss-Jordan elimination\n",
    "- 10.7 Possibilities for solutions\n",
    "- 10.8 Matrix spaces, row reduction\n",
    "- 10.9 Exercises\n",
    "- 10.10 Answers\n",
    "- 10.11 Coding challenges\n",
    "- 10.12 Code solutions"
   ]
  },
  {
   "cell_type": "code",
   "execution_count": 1,
   "id": "fb6d5f1b",
   "metadata": {},
   "outputs": [],
   "source": [
    "import numpy as np\n",
    "import sympy as sym"
   ]
  },
  {
   "cell_type": "markdown",
   "id": "2120379b",
   "metadata": {},
   "source": [
    "## 10.1 Algebra and geometry of equations\n",
    "Every solution to the system of equations $Ax = b$ has one of the following outcomes:\n",
    "\n",
    "- If $A$ is nonsingular, then there is exactly one (unique) solution\n",
    "    - $b \\in \\text{span}(A)$ and linearly independent\n",
    "    - Geometric interpretation: Lines intersect at the point $x$ with coordinates equal to the solution\n",
    "- If $A$ is singular and $b \\in \\text{span}(A)$, then there are an infinite number of solutions\n",
    "    - Geometric interpretation: Colinear lines\n",
    "- If $A$ is singular and $b \\notin \\text{span}(A)$, then there is no solution\n",
    "    - Geometric interpretation: Parallel lines\n",
    "\n",
    "Note\n",
    "- Existence of unique solution depends only on $A$\n",
    "\n",
    "\n",
    "### Singularity\n",
    "A nonsingular matrix $A$ has the following properties:\n",
    "1. There exists $A^{-1}$ such that $A^{-1} A = A A^{-1} = I$\n",
    "2. $\\text{det}(A) \\neq 0$\n",
    "3. $\\text{rank}(A) = n$ where $A$ is $n \\times n$ matrix\n",
    "4. Null space of matrix is empty $N(A) = \\emptyset$ e.g. $Az \\neq 0$ for any vector $z \\neq 0$"
   ]
  },
  {
   "cell_type": "markdown",
   "id": "296369a0",
   "metadata": {},
   "source": [
    "## 10.2 From systems to matrices\n",
    "Terminology used in system of equations $Ax = b$\n",
    "\n",
    "- Variables: $x$\n",
    "    - Unknowns that solve the system\n",
    "- Coefficients: $A$\n",
    "    - Matrix of coefficients, one equation per row\n",
    "- Constants: $b$\n",
    "    - Right hand side, do not participate in multiplication $Ax$"
   ]
  },
  {
   "cell_type": "markdown",
   "id": "14bafa9e",
   "metadata": {},
   "source": [
    "## 10.3 Row reduction\n",
    "\n",
    "### Row Echelon Form aka REF\n",
    "Row echelon form of a matrix $\\text{REF}(A)$ corresponds to an upper triangular matrix\n",
    "\n",
    "Example\n",
    "$$\n",
    "\\text{REF}(A) = \n",
    "\\begin{bmatrix}\n",
    "a & b & c \\\\\n",
    "0 & d & e \\\\\n",
    "0 & 0 & f \\\\\n",
    "\\end{bmatrix}\n",
    "$$\n",
    "\n",
    "Notes\n",
    "- Leftmost nonzero elements in each row are known as pivots\n",
    "- REF form of a matrix is not unique\n",
    "\n",
    "### Elementary Row Operations (ERO)\n",
    "Use elementary row operations (listed below) to transform a matrix to row echelon form.\n",
    "\n",
    "1. Swap rows\n",
    "2. Scale a row by a nonzero constant\n",
    "3. Add to a row the scalar multiple of another row\n",
    "\n",
    "Notes\n",
    "- Matrix rank is equal to...\n",
    "    - ... number of nonzero rows in row echelon form\n",
    "    - ... number of pivots\n",
    "- ERO do not change the row space of the matrix, hence do not change the matrix rank\n",
    "\n",
    "### Why Row Echelon Form (REF)?\n",
    "Row echelon form allows us to solve a system of equations $Ux = b$ for $x$ using back substitution.\n",
    "- Solves for $x$ moving from bottom to top.\n",
    "\n",
    "$$\n",
    "x_i = \\frac{b_i - \\sum_{j=i+1}^{n} U_{i,j} x_j}{U_{i,i}} \\quad i = n, n-1, \\dots, 1\n",
    "$$\n",
    "\n",
    "Forward substitution solves a system of equations $Lx = b$ for $x$.\n",
    "- Solves for $x$ moving from top to bottom.\n",
    "\n",
    "$$\n",
    "x_i = \\frac{b_i - \\sum_{j=1}^{i-1} L_{i,j} x_j}{L_{i,i}} \\quad i = 1, 2, \\dots, n\n",
    "$$"
   ]
  },
  {
   "cell_type": "markdown",
   "id": "62fc9193",
   "metadata": {},
   "source": [
    "## 10.4 Gaussian elimination\n",
    "\n",
    "### LU Decomposition\n",
    "LU decomposition solves the linear system of equations $Ax = b$ by factorizing matrix $A$ into lower triangular matrix $L$ and upper triangular matrix $U$.\n",
    "- Factorization refers to rewriting a mathematical object as the product of other objects\n",
    "\n",
    "1. Factorize $A$ to product $LU$\n",
    "2. Rewrite $Ax = b$ as $LUx = b$\n",
    "3. Solve $Ly = b$ for $y$\n",
    "4. Solve $Ux = y$ for $x$\n",
    "\n",
    "Notes\n",
    "- Technique suitable only for square matrices eg $A$ is a $n \\times n$ matrix\n",
    "- Since factorization is independent of the right hand side, it can be performed once and reused for multiple right hand sides\n",
    "\n",
    "### Gaussian Elmination\n",
    "Gaussian Elimination solves the linear system of equations $Ax = b$ using REF.\n",
    "\n",
    "1. Augment $A$ with $b$ to produce the matrix $[ A | b ]$\n",
    "2. Use elementary row operations to transform augmented matrix to row echelon form $\\text{REF}([ A | b ]) = U$\n",
    "3. Use back substitution to solve upper triangular system $Ux$ for $x$"
   ]
  },
  {
   "cell_type": "markdown",
   "id": "dce7da8d",
   "metadata": {},
   "source": [
    "## 10.5 Row-reduced echelon form\n",
    "\n",
    "### Row-reduced Echelon Form aka RREF\n",
    "Row-reduced echelon form takes echelon form a little further by \n",
    "1. Rescaling nonzero rows by a scalar constant so that pivots have a value of 1\n",
    "2. Applying row reduction to the remaining rows so that the pivot element is the only nonzero element in each column\n",
    "\n",
    "Example\n",
    "$$\n",
    "\\text{RREF}(A) = \n",
    "\\begin{bmatrix}\n",
    "1 & 0 & a \\\\\n",
    "0 & 1 & b \\\\\n",
    "0 & 0 & 0 \\\\\n",
    "\\end{bmatrix}\n",
    "$$"
   ]
  },
  {
   "cell_type": "code",
   "execution_count": 2,
   "id": "66f68072",
   "metadata": {},
   "outputs": [
    {
     "name": "stdout",
     "output_type": "stream",
     "text": [
      "[[1 2 3]\n",
      " [4 5 6]\n",
      " [7 8 9]]\n",
      "[[1 0 -1]\n",
      " [0 1 2]\n",
      " [0 0 0]]\n"
     ]
    }
   ],
   "source": [
    "A = np.array([[1,2,3],[4,5,6],[7,8,9]])\n",
    "\n",
    "print(A)\n",
    "\n",
    "# Verify that the number of pivots (2) is equal to the matrix rank.\n",
    "rrefA, _ = sym.Matrix(A).rref()\n",
    "print(np.array(rrefA))\n",
    "np.testing.assert_equal(np.linalg.matrix_rank(A), 2)"
   ]
  },
  {
   "cell_type": "markdown",
   "id": "8e58c639",
   "metadata": {},
   "source": [
    "## 10.6 Gauss-Jordan elimination\n",
    "\n",
    "### Gauss-Jordan Elimination\n",
    "Gauss-Jordan Elimination solves the linear system of equations $Ax = b$ using RREF.\n",
    "\n",
    "1. Augment $A$ with $b$ to produce the matrix $[ A | b ]$\n",
    "2. Use elementary row operations to transform augmented matrix $\\text{RREF}([ A | b ]) = [ I | x ]$\n",
    "\n",
    "Since Gauss-Jordan uses RREF, using back substitution to solve for $x$ is not required. \n"
   ]
  },
  {
   "cell_type": "markdown",
   "id": "a9e2138a",
   "metadata": {},
   "source": [
    "## 10.7 Possibilities for solutions\n",
    "(_Repeat from 10.1_)\n",
    "\n",
    "Every solution to the system of equations $Ax = b$ has one of the following outcomes:\n",
    "1. System has no solutions\n",
    "    - $A$ is singular\n",
    "    - $A$ is rank deficient\n",
    "    - $b$ does not span $A$\n",
    "2. System has exactly one solution\n",
    "    - $A$ is nonsingular\n",
    "    - $A$ is full rank\n",
    "    - $\\text{RREF}(A) = I$\n",
    "    - $b$ spans $A$ and is linearly independent\n",
    "    - $N(A) = \\emptyset$\n",
    "3. System has an infinite number of solutions\n",
    "    - $A$ is singular\n",
    "    - $A$ is rank deficient\n",
    "    - $b$ spans $A$ and is linearly dependent"
   ]
  },
  {
   "cell_type": "markdown",
   "id": "3d13ce8f",
   "metadata": {},
   "source": [
    "## 10.8 Matrix spaces, row reduction\n",
    "- ERO does not change rank of the matrix\n",
    "- ERO does not change the row space of the matrix\n",
    "- ERO might change the column space of the matrix"
   ]
  },
  {
   "cell_type": "markdown",
   "id": "4fd40fc3",
   "metadata": {},
   "source": [
    "## 10.11 Coding challenges"
   ]
  },
  {
   "cell_type": "markdown",
   "id": "7581556d",
   "metadata": {},
   "source": [
    "> 2. The margin notes in section 10.5 describe patterns in the RREF of a matrix that depend on the size and shape of the matrix. The idea is that every RREF is essentially the identity matrix, possibly with additional rows of zeros or columns of nonzero numbers. Create random matrices that are (1) square, (2) wide, and (3) tall and compute and comment on the RREF of those matrices."
   ]
  },
  {
   "cell_type": "code",
   "execution_count": 3,
   "id": "2f827a45",
   "metadata": {},
   "outputs": [
    {
     "name": "stdout",
     "output_type": "stream",
     "text": [
      "square:\n",
      " [[1 0 0 0]\n",
      " [0 1 0 0]\n",
      " [0 0 1 0]\n",
      " [0 0 0 1]]\n",
      "wide:\n",
      " [[1 0 0 0 3.04783851597072 -0.737573763658058]\n",
      " [0 1 0 0 -6.28477867787247 2.32641474739729]\n",
      " [0 0 1 0 0.577227709280858 0.543645078674051]\n",
      " [0 0 0 1 0.504076602318774 0.0402422527658611]]\n",
      "tall:\n",
      " [[1 0 0 0]\n",
      " [0 1 0 0]\n",
      " [0 0 1 0]\n",
      " [0 0 0 1]\n",
      " [0 0 0 0]\n",
      " [0 0 0 0]]\n"
     ]
    }
   ],
   "source": [
    "# Square matrix\n",
    "# RREF(A) = I\n",
    "# Matrix is \n",
    "m, n = 4, 4\n",
    "A = np.random.random((m, n))\n",
    "rrefA, _ = sym.Matrix(A).rref()\n",
    "print(\"square:\\n\", np.array(rrefA))\n",
    "\n",
    "# Wide matrix\n",
    "# RREF(A) = | I | X |\n",
    "m, n = 4, 6\n",
    "A = np.random.random((m, n))\n",
    "rrefA, _ = sym.Matrix(A).rref()\n",
    "print(\"wide:\\n\", np.array(rrefA))\n",
    "\n",
    "# Tall matrix\n",
    "# RREF(A) = | I |\n",
    "#           | 0 |\n",
    "m, n = 6, 4\n",
    "A = np.random.random((m, n))\n",
    "rrefA, _ = sym.Matrix(A).rref()\n",
    "print(\"tall:\\n\", np.array(rrefA))"
   ]
  },
  {
   "cell_type": "code",
   "execution_count": null,
   "id": "90ad0c92",
   "metadata": {},
   "outputs": [],
   "source": []
  }
 ],
 "metadata": {
  "kernelspec": {
   "display_name": "Python 3 (ipykernel)",
   "language": "python",
   "name": "python3"
  },
  "language_info": {
   "codemirror_mode": {
    "name": "ipython",
    "version": 3
   },
   "file_extension": ".py",
   "mimetype": "text/x-python",
   "name": "python",
   "nbconvert_exporter": "python",
   "pygments_lexer": "ipython3",
   "version": "3.8.10"
  }
 },
 "nbformat": 4,
 "nbformat_minor": 5
}
