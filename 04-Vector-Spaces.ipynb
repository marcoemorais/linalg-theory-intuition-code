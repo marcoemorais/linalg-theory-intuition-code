{
 "cells": [
  {
   "cell_type": "markdown",
   "id": "53688b42",
   "metadata": {},
   "source": [
    "# 4 - Vector Spaces\n",
    "- 4.1 Dimensions and fields\n",
    "- 4.2 Vector spaces\n",
    "- 4.3 Subspaces and ambient spaces\n",
    "- 4.4 Subsets\n",
    "- 4.5 Span\n",
    "- 4.6 Linear independence\n",
    "- 4.7 Basis\n",
    "- 4.8 Exercises\n",
    "- 4.9 Answers"
   ]
  },
  {
   "cell_type": "markdown",
   "id": "3cb73459",
   "metadata": {},
   "source": [
    "## 4.1 Dimensions and fields\n",
    "\n",
    "### Algebraic\n",
    "* Dimension is the number of elements in the vector.\n",
    "\n",
    "### Geometric\n",
    "* Dimension is the number of coordinate axes in which the vector exists.\n",
    "\n",
    "### Notes\n",
    "* There is no implicit order in the sequence of dimensions such that one is more important than another.\n",
    "* Although Cartesian coordinate system uses orthogonal axes, this is not a requirement for all vectors.\n",
    "\n",
    "### Fields\n",
    "* Field is a set of numbers for which basic arithmetic operations (add, subtract, multiply, divide) are defined.\n",
    "* In the context of this book, fields are used to indicate number of dimensions. See examples below.\n",
    "* Examples\n",
    "    * $\\mathbb{R}^3$ is a vector of real numbers in 3d\n",
    "    * $\\mathbb{C}$ is a number in complex plane\n",
    "    * $\\mathbb{Z}^2$ is a vector of integers in 2d"
   ]
  },
  {
   "cell_type": "markdown",
   "id": "4d981248",
   "metadata": {},
   "source": [
    "## 4.2 Vector spaces\n",
    "A vector space is any set of objects for which addition and scalar multiplication are defined.\n",
    "\n",
    "### Axioms\n",
    "Addition and scalar multiplication of a vector space obey the following axioms.\n",
    "\n",
    "$$\n",
    "\\begin{aligned}\n",
    "v + (-v) &= 0 \\\\\n",
    "(v + w) + u &= v + (w + u) \\\\\n",
    "v + w &= w + v \\\\\n",
    "v + 0 &= v \\\\\n",
    "v \\textbf{1} &= v \\\\\n",
    "(\\alpha + \\beta) (v + w) &= \\alpha v + \\alpha w + \\beta v + \\beta w \\\\\n",
    "\\end{aligned}\n",
    "$$"
   ]
  },
  {
   "cell_type": "markdown",
   "id": "91b0cbde",
   "metadata": {},
   "source": [
    "## 4.3 Subspaces and ambient spaces\n",
    "\n",
    "### Geometric\n",
    "* A subspace is the set of all points that you can reach by addition and scalar multiplication of a collection of vectors.\n",
    "    * Think of addition as combining and scalar multiplication as stretching the vectors in the collection.\n",
    "    \n",
    "### Ambient Spaces\n",
    "* An ambient space is the dimensionality of the coordinate system in which the subspace is embedded.\n",
    "* Example subspaces for ambient space $\\mathbb{R}^3$\n",
    "    * Smallest subspace is a single point at the origin $\\begin{bmatrix}0 & 0 & 0\\end{bmatrix}$\n",
    "    * Scalar multiple of any nonzero vector $\\textbf{v}$ creates a subspace that is a line.\n",
    "    * Any linear combination of two vectors $\\textbf{v}$ and $\\textbf{w}$ that are linearly independent creates a subspace that is a plane.\n",
    "    * Any linear combination of three vectors $\\textbf{v}, \\textbf{w}, \\textbf{u}$ that are linearly independent creates a subspace that is the entire ambient space eg $\\mathbb{R}^3$.\n",
    "\n",
    "### Algebraic\n",
    "For any pair of vectors in subspace V and for any pair of real-valued scalars, the linear weighted combination is also in the subspace V.\n",
    "\n",
    "$$\n",
    "\\forall \\textbf{v}, \\textbf{w} \\in V \\\\\n",
    "\\forall \\lambda, \\alpha \\in \\mathbb{R} \\\\\n",
    "\\lambda \\textbf{v} + \\alpha \\textbf{w} \\in V \\\\\n",
    "$$\n",
    "\n",
    "* Example of a subspace that is a line\n",
    "$$\n",
    "V = \\{ \\lambda \\begin{bmatrix}1 & 3 & 4\\end{bmatrix}, \\lambda \\in \\mathbb{R} \\}\n",
    "$$"
   ]
  },
  {
   "cell_type": "markdown",
   "id": "d3de3926",
   "metadata": {},
   "source": [
    "## 4.4 Subsets\n",
    "* Subsets are regions in space and need not include the origin.\n",
    "    * Not every subset is also a subspace.\n",
    "    * Example\n",
    "        * A quadrant of the 2D cartesian plane."
   ]
  },
  {
   "cell_type": "markdown",
   "id": "8b4fb55b",
   "metadata": {},
   "source": [
    "## 4.5 Span\n",
    "* Span is the verb that describes what vectors in a subspace mean.\n",
    "* A set of vectors in a subspace span the subspace.\n",
    "* Example\n",
    "    * The pair of vectors $\\begin{bmatrix}1 & 0\\end{bmatrix}$ and $\\begin{bmatrix}0 & 1\\end{bmatrix}$ span all of $\\mathbb{R}^2$.\n",
    "    * The linear combination of these vectors can be used to reach all of $\\mathbb{R}^2$.\n",
    "    * These vectors also happen to be orthogonal vectors.\n",
    "    \n",
    "### In the span?\n",
    "Some vector $\\textbf{v}$ is in the span of a set of vectors $S$ if the vector can be written as linear weighted combination of S.\n",
    "\n",
    "$$\n",
    "\\textbf{v} \\in \\text{span(S)}\n",
    "$$\n",
    "\n",
    "Algorithms such as computing the determinant and Gaussian elimination find the weights needed to reconstruct $\\textbf{v}$ from S."
   ]
  },
  {
   "cell_type": "markdown",
   "id": "9462bfaf",
   "metadata": {},
   "source": [
    "## 4.6 Linear independence\n",
    "\n",
    "### Geometric\n",
    "* A set of vectors is independent if dimensionality of the subspace spanned by the set of vectors is equal to the number of vectors in the set.\n",
    "* Examples\n",
    "    * A pair of colinear vectors in $\\mathbb{R}^2$ are linearly **dependent** since they span a 1d subspace.\n",
    "    * A pair of non-colinear vectors in $\\mathbb{R}^2$ are linearly **independent** since they span the 2d subspace.\n",
    "    * 3 non-colinear vectors in $\\mathbb{R}^2$ are linearly **dependent** since they cannot span more than the 2d subspace.\n",
    "\n",
    "### Algebraic\n",
    "* A set of vectors is linearly independent when the only linear weighted combination of the vectors that produces the zero vector $\\textbf{0}$ occurs when all the weights are 0.\n",
    "\n",
    "$$\n",
    "\\begin{aligned}\n",
    "\\lambda_1 \\textbf{v}_1 + \\cdots + \\lambda_n \\textbf{v}_n &= 0 \\\\\n",
    "\\lambda_1 = \\cdots = \\lambda_n &= 0 \\\\\n",
    "\\end{aligned}\n",
    "$$\n",
    "\n",
    "* Examples\n",
    "    * Any list of vectors containing the zero vector $\\textbf{0}$ is linearly dependent.\n",
    "    * A list of vectors is linearly dependent if any one of the vectors is a multiple of another one.\n",
    "    * The standard mutually orthogonal unit vectors that define a coordinate axes are linearly independent.\n",
    "\n",
    "### Matrix Rank\n",
    "Linear indepdendence can be determined by concatenating vectors into a matrix aka augmented matrix and computing the rank.\n",
    "* If rank of the matrix is the same as number of vectors, then the vectors are linearly independent."
   ]
  },
  {
   "cell_type": "markdown",
   "id": "ae3548c5",
   "metadata": {},
   "source": [
    "## 4.7 Basis\n",
    "A set of vectors $\\{ \\textbf{v}_1, \\cdots, \\textbf{v}_n \\}$ forms a basis for some subspace $\\mathbb{R}^M$ if the vectors (1) span the subspace and (2) are linearly independent.\n",
    "* Examples\n",
    "    * The standard mutually orthogonal unit vectors form a basis for the space $\\mathbb{R}^M$. \n",
    "    * It is possible for a subset of linearly independent vectors to also span a subspace embedded in $\\mathbb{R}^M$.\n",
    "\n",
    "### Why is Basis Important?\n",
    "Any vector in the space spanned by the basis vectors can be expressed as a linear weighted combination of a unique set of weights and the basis vectors.\n",
    "* Refer to the vector has having unique coordinates within the basis.\n",
    "\n",
    "### Basis Vectors are Not Unique\n",
    "There are an infinite number of basis vectors that describe any subspace.\n",
    "* Examples\n",
    "    * In Fourier transforms sine waves are basis functions because every signal can be represented as a linear combination of sine waves.\n",
    "    * Different basis vectors will manipulate the vectors in that space differently.\n",
    "        * PCA basis vectors are used to project dataset to a lower dimensional space that preserves the variance in the data.\n",
    "        * ICA (Independent Component Analysis) are used to separate a multivariate dataset into additive subcomponents."
   ]
  },
  {
   "cell_type": "code",
   "execution_count": null,
   "id": "73bee78b",
   "metadata": {},
   "outputs": [],
   "source": []
  }
 ],
 "metadata": {
  "kernelspec": {
   "display_name": "Python 3 (ipykernel)",
   "language": "python",
   "name": "python3"
  },
  "language_info": {
   "codemirror_mode": {
    "name": "ipython",
    "version": 3
   },
   "file_extension": ".py",
   "mimetype": "text/x-python",
   "name": "python",
   "nbconvert_exporter": "python",
   "pygments_lexer": "ipython3",
   "version": "3.8.10"
  }
 },
 "nbformat": 4,
 "nbformat_minor": 5
}
